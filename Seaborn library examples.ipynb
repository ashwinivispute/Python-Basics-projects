{
 "cells": [
  {
   "cell_type": "markdown",
   "metadata": {},
   "source": [
    "# Creating plots on NBA data using seaborn library"
   ]
  },
  {
   "cell_type": "markdown",
   "metadata": {},
   "source": [
    "***SEABORN: This is a Python visualization library based on matplotlib. It provides a high-level interface which can be used for making attractive and informative statistical graphics in Python.***\n",
    "\n",
    "***There are various types of plots in Seaborn, few of them are as follows: ***\n",
    "\n",
    "**1. Axis grids**\n",
    "\n",
    "***- Facetgrid : This is a subplot grid which can be used for plotting conditional relationships***\n",
    "\n",
    "***- FactorPlot : This type of grid can be used to draw a categorical plot on the facetgrid***\n",
    "\n",
    "***- lmplot: lmplot is useful for plotting data and regression model which fits across a FacetGrid***\n",
    "\n",
    "\n",
    "***2. Categorical plots***\n",
    "\n",
    "***- countplot : This type of plot shows the counts of observations in each categorical bin using bars***\n",
    "\n",
    "***- barplot : barplot shows point estimation and confidence intervals as rectangular bars***\n",
    "\n",
    "***- barplot : Barplot draws a box plot to show distributions with respect to categories***\n",
    "\n",
    "***3. Distribution plots***\n",
    "\n",
    "***- distplot : This type plots an univariate distribution of observations.***\n",
    "\n",
    "***4. Regression plots***\n",
    "\n",
    "***- regplot : This type plots a data with linear regression model***\n",
    "\n",
    "***5.Matrix plots***\n",
    "\n",
    "***- heatmap : Plots the rectangular data as a color-encoded matrix.***"
   ]
  },
  {
   "cell_type": "code",
   "execution_count": 122,
   "metadata": {
    "collapsed": true
   },
   "outputs": [],
   "source": [
    "%matplotlib inline\n",
    "\n",
    "import os\n",
    "import numpy as np\n",
    "import pandas as pd\n",
    "import seaborn as sns\n",
    "import matplotlib.pyplot as plt"
   ]
  },
  {
   "cell_type": "markdown",
   "metadata": {},
   "source": [
    "***Explanation: Importing various libraries such as os, numpy,pandas,seaborn & matplotlib for using its related functions and declaring it as np,pd,sns,plt respectively for its ease of use***"
   ]
  },
  {
   "cell_type": "code",
   "execution_count": 123,
   "metadata": {},
   "outputs": [
    {
     "data": {
      "text/html": [
       "<div>\n",
       "<style>\n",
       "    .dataframe thead tr:only-child th {\n",
       "        text-align: right;\n",
       "    }\n",
       "\n",
       "    .dataframe thead th {\n",
       "        text-align: left;\n",
       "    }\n",
       "\n",
       "    .dataframe tbody tr th {\n",
       "        vertical-align: top;\n",
       "    }\n",
       "</style>\n",
       "<table border=\"1\" class=\"dataframe\">\n",
       "  <thead>\n",
       "    <tr style=\"text-align: right;\">\n",
       "      <th></th>\n",
       "      <th>Gm#</th>\n",
       "      <th>Date</th>\n",
       "      <th>Tm</th>\n",
       "      <th>Opp</th>\n",
       "      <th>W/L</th>\n",
       "      <th>R</th>\n",
       "      <th>RA</th>\n",
       "      <th>Inn</th>\n",
       "      <th>W-L</th>\n",
       "      <th>Rank</th>\n",
       "      <th>GB</th>\n",
       "      <th>Win</th>\n",
       "      <th>Loss</th>\n",
       "      <th>Save</th>\n",
       "      <th>Time</th>\n",
       "      <th>D/N</th>\n",
       "      <th>Attendance</th>\n",
       "      <th>Streak</th>\n",
       "    </tr>\n",
       "  </thead>\n",
       "  <tbody>\n",
       "    <tr>\n",
       "      <th>0</th>\n",
       "      <td>1</td>\n",
       "      <td>Tuesday, Apr 5,2016</td>\n",
       "      <td>BOS</td>\n",
       "      <td>CLE</td>\n",
       "      <td>W</td>\n",
       "      <td>6</td>\n",
       "      <td>2</td>\n",
       "      <td>NaN</td>\n",
       "      <td>Jan-00</td>\n",
       "      <td>1</td>\n",
       "      <td>Tied</td>\n",
       "      <td>Price</td>\n",
       "      <td>Kluber</td>\n",
       "      <td>NaN</td>\n",
       "      <td>3:13</td>\n",
       "      <td>D</td>\n",
       "      <td>34493</td>\n",
       "      <td>+</td>\n",
       "    </tr>\n",
       "    <tr>\n",
       "      <th>1</th>\n",
       "      <td>2</td>\n",
       "      <td>Wednesday, Apr 6,2016</td>\n",
       "      <td>BOS</td>\n",
       "      <td>CLE</td>\n",
       "      <td>L</td>\n",
       "      <td>6</td>\n",
       "      <td>7</td>\n",
       "      <td>NaN</td>\n",
       "      <td>1-Jan</td>\n",
       "      <td>2</td>\n",
       "      <td>1</td>\n",
       "      <td>McAllister</td>\n",
       "      <td>Tazawa</td>\n",
       "      <td>Allen</td>\n",
       "      <td>3:29</td>\n",
       "      <td>N</td>\n",
       "      <td>10298</td>\n",
       "      <td>-</td>\n",
       "    </tr>\n",
       "    <tr>\n",
       "      <th>2</th>\n",
       "      <td>3</td>\n",
       "      <td>Friday, Apr 8,2016</td>\n",
       "      <td>BOS</td>\n",
       "      <td>TOR</td>\n",
       "      <td>W</td>\n",
       "      <td>8</td>\n",
       "      <td>7</td>\n",
       "      <td>NaN</td>\n",
       "      <td>1-Feb</td>\n",
       "      <td>2</td>\n",
       "      <td>1.5</td>\n",
       "      <td>Barnes</td>\n",
       "      <td>Storen</td>\n",
       "      <td>Kimbrel</td>\n",
       "      <td>3:24</td>\n",
       "      <td>N</td>\n",
       "      <td>48871</td>\n",
       "      <td>+</td>\n",
       "    </tr>\n",
       "    <tr>\n",
       "      <th>3</th>\n",
       "      <td>4</td>\n",
       "      <td>Saturday, Apr 9,2016</td>\n",
       "      <td>BOS</td>\n",
       "      <td>TOR</td>\n",
       "      <td>W</td>\n",
       "      <td>8</td>\n",
       "      <td>4</td>\n",
       "      <td>NaN</td>\n",
       "      <td>1-Mar</td>\n",
       "      <td>2</td>\n",
       "      <td>1</td>\n",
       "      <td>Porcello</td>\n",
       "      <td>Dickey</td>\n",
       "      <td>NaN</td>\n",
       "      <td>2:48</td>\n",
       "      <td>D</td>\n",
       "      <td>47138</td>\n",
       "      <td>++</td>\n",
       "    </tr>\n",
       "    <tr>\n",
       "      <th>4</th>\n",
       "      <td>5</td>\n",
       "      <td>Sunday, Apr 10,2016</td>\n",
       "      <td>BOS</td>\n",
       "      <td>TOR</td>\n",
       "      <td>L</td>\n",
       "      <td>0</td>\n",
       "      <td>3</td>\n",
       "      <td>NaN</td>\n",
       "      <td>2-Mar</td>\n",
       "      <td>2</td>\n",
       "      <td>2</td>\n",
       "      <td>Estrada</td>\n",
       "      <td>Wright</td>\n",
       "      <td>Osuna</td>\n",
       "      <td>2:27</td>\n",
       "      <td>D</td>\n",
       "      <td>46158</td>\n",
       "      <td>-</td>\n",
       "    </tr>\n",
       "    <tr>\n",
       "      <th>...</th>\n",
       "      <td>...</td>\n",
       "      <td>...</td>\n",
       "      <td>...</td>\n",
       "      <td>...</td>\n",
       "      <td>...</td>\n",
       "      <td>...</td>\n",
       "      <td>...</td>\n",
       "      <td>...</td>\n",
       "      <td>...</td>\n",
       "      <td>...</td>\n",
       "      <td>...</td>\n",
       "      <td>...</td>\n",
       "      <td>...</td>\n",
       "      <td>...</td>\n",
       "      <td>...</td>\n",
       "      <td>...</td>\n",
       "      <td>...</td>\n",
       "      <td>...</td>\n",
       "    </tr>\n",
       "    <tr>\n",
       "      <th>15</th>\n",
       "      <td>16</td>\n",
       "      <td>Friday, Apr 22,2016</td>\n",
       "      <td>BOS</td>\n",
       "      <td>HOU</td>\n",
       "      <td>W</td>\n",
       "      <td>6</td>\n",
       "      <td>2</td>\n",
       "      <td>NaN</td>\n",
       "      <td>8-Aug</td>\n",
       "      <td>2</td>\n",
       "      <td>2.5</td>\n",
       "      <td>Wright</td>\n",
       "      <td>McHugh</td>\n",
       "      <td>Kimbrel</td>\n",
       "      <td>3:28</td>\n",
       "      <td>N</td>\n",
       "      <td>26672</td>\n",
       "      <td>+</td>\n",
       "    </tr>\n",
       "    <tr>\n",
       "      <th>16</th>\n",
       "      <td>17</td>\n",
       "      <td>Saturday, Apr 23,2016</td>\n",
       "      <td>BOS</td>\n",
       "      <td>HOU</td>\n",
       "      <td>L</td>\n",
       "      <td>3</td>\n",
       "      <td>8</td>\n",
       "      <td>NaN</td>\n",
       "      <td>9-Aug</td>\n",
       "      <td>2</td>\n",
       "      <td>3.5</td>\n",
       "      <td>Fiers</td>\n",
       "      <td>Buchholz</td>\n",
       "      <td>NaN</td>\n",
       "      <td>3:28</td>\n",
       "      <td>D</td>\n",
       "      <td>40232</td>\n",
       "      <td>-</td>\n",
       "    </tr>\n",
       "    <tr>\n",
       "      <th>17</th>\n",
       "      <td>18</td>\n",
       "      <td>Sunday, Apr 24,2016</td>\n",
       "      <td>BOS</td>\n",
       "      <td>HOU</td>\n",
       "      <td>W</td>\n",
       "      <td>7</td>\n",
       "      <td>5</td>\n",
       "      <td>12.0</td>\n",
       "      <td>9-Sep</td>\n",
       "      <td>2</td>\n",
       "      <td>2.5</td>\n",
       "      <td>Hembree</td>\n",
       "      <td>Giles</td>\n",
       "      <td>NaN</td>\n",
       "      <td>5:03</td>\n",
       "      <td>N</td>\n",
       "      <td>32416</td>\n",
       "      <td>+</td>\n",
       "    </tr>\n",
       "    <tr>\n",
       "      <th>18</th>\n",
       "      <td>19</td>\n",
       "      <td>Monday, Apr 25,2016</td>\n",
       "      <td>BOS</td>\n",
       "      <td>ATL</td>\n",
       "      <td>W</td>\n",
       "      <td>1</td>\n",
       "      <td>0</td>\n",
       "      <td>NaN</td>\n",
       "      <td>9-Oct</td>\n",
       "      <td>2</td>\n",
       "      <td>1.5</td>\n",
       "      <td>Porcello</td>\n",
       "      <td>Teheran</td>\n",
       "      <td>Kimbrel</td>\n",
       "      <td>2:55</td>\n",
       "      <td>N</td>\n",
       "      <td>22735</td>\n",
       "      <td>++</td>\n",
       "    </tr>\n",
       "    <tr>\n",
       "      <th>19</th>\n",
       "      <td>20</td>\n",
       "      <td>Tuesday, Apr 26,2016</td>\n",
       "      <td>BOS</td>\n",
       "      <td>ATL</td>\n",
       "      <td>W</td>\n",
       "      <td>11</td>\n",
       "      <td>4</td>\n",
       "      <td>NaN</td>\n",
       "      <td>9-Nov</td>\n",
       "      <td>2</td>\n",
       "      <td>0.5</td>\n",
       "      <td>Price</td>\n",
       "      <td>Wisler</td>\n",
       "      <td>NaN</td>\n",
       "      <td>2:52</td>\n",
       "      <td>N</td>\n",
       "      <td>23487</td>\n",
       "      <td>+++</td>\n",
       "    </tr>\n",
       "  </tbody>\n",
       "</table>\n",
       "<p>20 rows × 18 columns</p>\n",
       "</div>"
      ],
      "text/plain": [
       "    Gm#                   Date   Tm  Opp W/L   R  RA   Inn     W-L  Rank  \\\n",
       "0     1    Tuesday, Apr 5,2016  BOS  CLE   W   6   2   NaN  Jan-00     1   \n",
       "1     2  Wednesday, Apr 6,2016  BOS  CLE   L   6   7   NaN   1-Jan     2   \n",
       "2     3     Friday, Apr 8,2016  BOS  TOR   W   8   7   NaN   1-Feb     2   \n",
       "3     4   Saturday, Apr 9,2016  BOS  TOR   W   8   4   NaN   1-Mar     2   \n",
       "4     5    Sunday, Apr 10,2016  BOS  TOR   L   0   3   NaN   2-Mar     2   \n",
       "..  ...                    ...  ...  ...  ..  ..  ..   ...     ...   ...   \n",
       "15   16    Friday, Apr 22,2016  BOS  HOU   W   6   2   NaN   8-Aug     2   \n",
       "16   17  Saturday, Apr 23,2016  BOS  HOU   L   3   8   NaN   9-Aug     2   \n",
       "17   18    Sunday, Apr 24,2016  BOS  HOU   W   7   5  12.0   9-Sep     2   \n",
       "18   19    Monday, Apr 25,2016  BOS  ATL   W   1   0   NaN   9-Oct     2   \n",
       "19   20   Tuesday, Apr 26,2016  BOS  ATL   W  11   4   NaN   9-Nov     2   \n",
       "\n",
       "      GB         Win      Loss     Save  Time D/N  Attendance Streak  \n",
       "0   Tied       Price    Kluber      NaN  3:13   D       34493      +  \n",
       "1      1  McAllister    Tazawa    Allen  3:29   N       10298      -  \n",
       "2    1.5      Barnes    Storen  Kimbrel  3:24   N       48871      +  \n",
       "3      1    Porcello    Dickey      NaN  2:48   D       47138     ++  \n",
       "4      2     Estrada    Wright    Osuna  2:27   D       46158      -  \n",
       "..   ...         ...       ...      ...   ...  ..         ...    ...  \n",
       "15   2.5      Wright    McHugh  Kimbrel  3:28   N       26672      +  \n",
       "16   3.5       Fiers  Buchholz      NaN  3:28   D       40232      -  \n",
       "17   2.5     Hembree     Giles      NaN  5:03   N       32416      +  \n",
       "18   1.5    Porcello   Teheran  Kimbrel  2:55   N       22735     ++  \n",
       "19   0.5       Price    Wisler      NaN  2:52   N       23487    +++  \n",
       "\n",
       "[20 rows x 18 columns]"
      ]
     },
     "execution_count": 123,
     "metadata": {},
     "output_type": "execute_result"
    }
   ],
   "source": [
    "    fp = 'C:/Users/Ashwini/Desktop/Intro to DS/NBAdata.csv' # Assigning path of file to variable 'fp', to make use of it to read the file\n",
    "    games = pd.read_csv(fp) # read csv file and save the data in dataframe games\n",
    "    games.head(20) # display first 20 records of games dataframe "
   ]
  },
  {
   "cell_type": "markdown",
   "metadata": {},
   "source": [
    "***Explanation : In the above block of code, dataframe 'games' is created with data from csv file saved on the specified path and games.head(20) is used to display first 20 records of file***"
   ]
  },
  {
   "cell_type": "markdown",
   "metadata": {},
   "source": [
    "## Create 3 plots of the baseball data in seaborn ##"
   ]
  },
  {
   "cell_type": "markdown",
   "metadata": {},
   "source": [
    "### Plot 1 :  Factor Plot ( Gm# vs Attendance ) ###"
   ]
  },
  {
   "cell_type": "markdown",
   "metadata": {},
   "source": [
    "***FactorPlot : Factorplot represents the categorical plot on facetfrid***\n",
    "\n",
    "***Syntax to use FactorPlot:***\n",
    "\n",
    "***seaborn.factorplot( x=column to be displayed on x axis,y=column to be displayed on y axis, hue=name of variable in data, data=Dataframe, row=categorical variable, col=categorical variable,kind=kind of plot to draw, size= Height of each facet, aspect=width of each facet, orient=orientation of plot(horizontal or vertical), color=color for all elements, palette=colors to use for different levels of hue )***\n",
    "\n",
    "***Following is an example of FactorPlot using baseball data***"
   ]
  },
  {
   "cell_type": "code",
   "execution_count": 206,
   "metadata": {},
   "outputs": [
    {
     "data": {
      "image/png": "[encoded data removed]",
      "text/plain": [
       "<matplotlib.figure.Figure at 0x1df946e36d8>"
      ]
     },
     "metadata": {},
     "output_type": "display_data"
    }
   ],
   "source": [
    "sns.set(style=\"white\") # Setting the aesthetic style of the plots\n",
    "\n",
    "g = sns.factorplot(x=\"Gm#\", y=\"Attendance\",aspect=2.5, size=6,kind='bar', \n",
    "    hue=\"Attendance\", data=games.query('47000 <= Attendance'), palette='colorblind') # plotting a graph of game number versus Attendance"
   ]
  },
  {
   "cell_type": "markdown",
   "metadata": {},
   "source": [
    "***Explanation : Above block of code is generating a factorplot of Game number versus Attendance for the case of attendance count is greater than or equal to 47000 *** \n",
    "\n",
    "*** 'sns.style' is used to set an aesthetic style of the plot and hence defined as 'white'.Various styles are possible for above plot such as darkgrid, whitegrid, dark, white & ticks***\n",
    "\n",
    "*** x='Gm#' & y='Attendance' are declared as inputs to plot a graph of Game number versus Attendance which plots all game records where count of tickets sold in home games is greater than 47000***\n",
    "\n",
    "***aspect = 2.5 is setting a width of each facet in inches and hence here aspect value is defined as 2.5 inches***\n",
    "\n",
    "***size = 6 defining the height of each facet in graph, hence here each facet is of height 6 inches***\n",
    "\n",
    "***kind-'bar' is used to set the kind/type of plot.Above graph is of type bar. Other possible types which can be used are point, count, box, violin, strip***\n",
    "\n",
    "***hue= 'Attendance' is used to differentiate attendance records with others and relevant records representation is defined besides the plot***\n",
    "\n",
    "***data = games.query('47000 <= Attendance') defines a criteria to plot attendance values only which are greater than or euqal to 47000***\n",
    "\n",
    "***palette = 'colorblind' defines a palette type for defining colors for all different levels of hue 'Attendance'.Other possible palettes are deep, muted, bright, pastel, dark***"
   ]
  },
  {
   "cell_type": "markdown",
   "metadata": {},
   "source": [
    "### Plot 2 :  CountPlot ( W/L ) ###"
   ]
  },
  {
   "cell_type": "markdown",
   "metadata": {},
   "source": [
    "*** Countplot: This plot counts the observations in each categorical bin using bars***\n",
    "\n",
    "***Syntax to use countplot:***\n",
    "\n",
    "***seaborn.countplot(x=column to be displayed on x axis,y=column to be displayed on y axis, hue=name of variable in data, data=Dataframe, order=Order to plot the categorical levels, hue_order=Order to plot the categorical levels of hue values, orient=orientation of the plot(horizontal or vertical), color=color of all plot elements, palette=Colors to use for the different levels of the hue variable, saturation=Proportion of the original saturation to draw colors, dodge=whether elements should be shifted along the categorical axis or not(true or false values))***\n",
    "\n",
    "***Following is an example of Countplot using baseball data***"
   ]
  },
  {
   "cell_type": "code",
   "execution_count": 204,
   "metadata": {},
   "outputs": [
    {
     "data": {
      "image/png": "[encoded data removed]",
      "text/plain": [
       "<matplotlib.figure.Figure at 0x1df9b1031d0>"
      ]
     },
     "metadata": {},
     "output_type": "display_data"
    }
   ],
   "source": [
    "sns.set(style=\"darkgrid\") # setting aeathetic style of plot\n",
    "plt.rcParams[\"figure.figsize\"] = (10, 5) # defining figuresize\n",
    "plt.rcParams[\"xtick.labelsize\"] = 10 # defining label size\n",
    "ax=sns.countplot(x=\"W/L\", hue=\"W/L\", data= games) # generating a countplot of win or loss results"
   ]
  },
  {
   "cell_type": "markdown",
   "metadata": {},
   "source": [
    "***Explanation : Above block of code represents the count of results in the form of W(Win), L(Loss), W-wo(Win-walkoff) and L-wo(Loss-walkoff) of team 'BOS'***\n",
    "\n",
    "***'sns.set(style='darkgrid')' is used to set an aesthetic style of the plot to darkgrid.other possible styles for above plot  are whitegrid, dark, white & ticks***\n",
    "\n",
    "***plt.rcParams[\"figure.figsize\"] is defining the size of figure as 10,5***\n",
    "\n",
    "***x=\"W/L\" is declared to plot a graph of Count of results (Win/Loss/W-wo/L-wo)***\n",
    "\n",
    "***hue=\"W/L\" assigns the different colors to different results such as blue color assigned to win result whereas green color has been assigned to loss result***\n",
    "\n",
    "***data = games defines the dataframe games to be used to plot the graph ***\n",
    "\n",
    "***In the above way, win, loss, win-walkoff and loss-walkoff counts for all matches of BOS team are described***"
   ]
  },
  {
   "cell_type": "markdown",
   "metadata": {},
   "source": [
    "### Plot 3 :  BarPlot ( R vs Date ) ###"
   ]
  },
  {
   "cell_type": "markdown",
   "metadata": {},
   "source": [
    "***Barplot : This plot shows point estimation and confidence intervals as rectangular bars***\n",
    "\n",
    "***Syntax for Barplot:***\n",
    "\n",
    "***seaborn.barplot(x=column to be displayed on x axis,y=column to be displayed on y axis, hue=name of variable in data, data=Dataframe, order=Order to plot the categorical levels, units=Identifier of sampling units, orient=Orientation of the plot (vertical or horizontal), color=Color for all of the elements,palette=Colors to use for the different levels of the hue variable, saturation=Proportion of the original saturation to draw colors, errwidth=Thickness of error bar lines,\n",
    "capsize=None, dodge=whether elements should be shifted along the categorical axis(true or false))***\n",
    "\n",
    "***Following is an example of BarPlot using baseball data***"
   ]
  },
  {
   "cell_type": "code",
   "execution_count": 211,
   "metadata": {
    "scrolled": true
   },
   "outputs": [
    {
     "data": {
      "image/png": "[encoded data removed]",
      "text/plain": [
       "<matplotlib.figure.Figure at 0x1df9b21bbe0>"
      ]
     },
     "metadata": {},
     "output_type": "display_data"
    }
   ],
   "source": [
    "fig, ax = plt.subplots(figsize=(10, 5)) # defining the size of figure\n",
    "sns.barplot(x='R', y='Date', data=games.query('10 <= R <= 15'),\n",
    "            color='#4c72b0', ax=ax) # creating barplot of 'Runs scored or allowed' versus Date of each relevant game\n",
    "sns.despine() # Removing the top and right spines from plot"
   ]
  },
  {
   "cell_type": "markdown",
   "metadata": {},
   "source": [
    "*** Explanation : Above codeblock shows all the records of Runs scored by BOS team between the range of 10-15 along with its relevant day.***\n",
    "\n",
    "***x='R' and y='Date' are declared to plot a graph of Runs versus Date where the Runs of BOS team are between range of 10-15***\n",
    "\n",
    "***data=games.query('10 <= R <= 15') using dataframe games to plot a graph and .query is used to define a criteria for runs scored/ allowed***\n",
    "\n",
    "***color='#4c72b0' defining the color of all elements of plot***"
   ]
  },
  {
   "cell_type": "markdown",
   "metadata": {},
   "source": [
    "## References: \n",
    "\n",
    "***https://seaborn.pydata.org***\n",
    "\n",
    "***https://www.baseball-reference.com/teams/BOS/2016-schedule-scores.shtml#team_schedule::none***"
   ]
  }
 ],
 "metadata": {
  "kernelspec": {
   "display_name": "Python 3",
   "language": "python",
   "name": "python3"
  },
  "language_info": {
   "codemirror_mode": {
    "name": "ipython",
    "version": 3
   },
   "file_extension": ".py",
   "mimetype": "text/x-python",
   "name": "python",
   "nbconvert_exporter": "python",
   "pygments_lexer": "ipython3",
   "version": "3.6.1"
  }
 },
 "nbformat": 4,
 "nbformat_minor": 2
}
