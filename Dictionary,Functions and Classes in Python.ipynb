{
 "cells": [
  {
   "cell_type": "markdown",
   "metadata": {},
   "source": [
    "# Tutorial on Dictionary,Functions and Classes in Python"
   ]
  },
  {
   "cell_type": "markdown",
   "metadata": {},
   "source": [
    "## DICTIONARY"
   ]
  },
  {
   "cell_type": "markdown",
   "metadata": {},
   "source": [
    "***Defining a Dictionary: Dictionary can be defined using a pair of key and value attributes which can be considered as single element ***"
   ]
  },
  {
   "cell_type": "code",
   "execution_count": 4,
   "metadata": {},
   "outputs": [
    {
     "name": "stdout",
     "output_type": "stream",
     "text": [
      "Example of dictionary: {'EmpName': 'Steve', 'EmpID': 123, 'DOJ': '9/15/2017', 'Domain': 'CRM'}\n"
     ]
    }
   ],
   "source": [
    "#Syntax of Dictionary:\n",
    "#dictonaryName={key1:value1, key2:value2, key3:value3.....keyn:valuen}\n",
    "#print(dictionaryName)    \n",
    "\n",
    "#Here is an example of creation and execution of dictionary\n",
    "Dict_example= {'EmpName':'Steve','EmpID':123, 'DOJ':'9/15/2017','Domain':'CRM'}\n",
    "print(\"Example of dictionary:\",Dict_example)"
   ]
  },
  {
   "cell_type": "markdown",
   "metadata": {},
   "source": [
    "***Accessing values from Dictionary***We can access any value from dictionary based on the subsequent key as follows:"
   ]
  },
  {
   "cell_type": "code",
   "execution_count": 5,
   "metadata": {},
   "outputs": [
    {
     "name": "stdout",
     "output_type": "stream",
     "text": [
      "Employee name from dictionary: Steve\n",
      "Date of Joining of an Employee from dictionary: 9/15/2017\n"
     ]
    }
   ],
   "source": [
    "#We can access any value from dictionary based on the subsequent key as follows:\n",
    "#dictionaryName[key]\n",
    "#Above piece of code will return the value related to respective key\n",
    "\n",
    "print(\"Employee name from dictionary:\",Dict_example['EmpName'])\n",
    "print(\"Date of Joining of an Employee from dictionary:\",Dict_example['DOJ'])"
   ]
  },
  {
   "cell_type": "markdown",
   "metadata": {},
   "source": [
    "***Updating key-value Pair in Dictionary***"
   ]
  },
  {
   "cell_type": "code",
   "execution_count": 6,
   "metadata": {},
   "outputs": [
    {
     "name": "stdout",
     "output_type": "stream",
     "text": [
      "Existing dictionary: {'EmpName': 'Steve', 'EmpID': 123, 'DOJ': '9/15/2017', 'Domain': 'CRM'}\n",
      "New dictionary: {'Status': 'Permanent'}\n",
      "\n",
      "Resulting dictionary after merging of two dictionaries\n"
     ]
    },
    {
     "data": {
      "text/plain": [
       "{'DOJ': '9/15/2017',\n",
       " 'Domain': 'CRM',\n",
       " 'EmpID': 123,\n",
       " 'EmpName': 'Steve',\n",
       " 'Status': 'Permanent'}"
      ]
     },
     "execution_count": 6,
     "metadata": {},
     "output_type": "execute_result"
    }
   ],
   "source": [
    "#This method adds new key-value pair in the existing dictionary in the following way:\n",
    "#dictionaryName1=[key1:value1,key2:value2]\n",
    "#dictionaryName2=[key1:value1]\n",
    "#dictionarName1.update(dictionaryName2)\n",
    "#Above statements creates two independent dictionaries and with the help of an update() function it adds key:value pair of one dictionary to another as\n",
    "#dictionaryName1=[key1:value1,key2:value2,keu3:value3]\n",
    "\n",
    "print(\"Existing dictionary:\",Dict_example)\n",
    "Dict_example1={'Status':'Permanent'}\n",
    "print(\"New dictionary:\",Dict_example1)\n",
    "print(\"\")\n",
    "print(\"Resulting dictionary after merging of two dictionaries\")\n",
    "Dict_example.update(Dict_example1)\n",
    "Dict_example"
   ]
  },
  {
   "cell_type": "markdown",
   "metadata": {},
   "source": [
    "***Deleting key:value pair from Dictionary***"
   ]
  },
  {
   "cell_type": "code",
   "execution_count": 7,
   "metadata": {},
   "outputs": [
    {
     "name": "stdout",
     "output_type": "stream",
     "text": [
      "Dictionary before deletion of a key:value pair:  {'EmpName': 'Steve', 'EmpID': 123, 'DOJ': '9/15/2017', 'Domain': 'CRM', 'Status': 'Permanent'}\n",
      "\n",
      "Dictionary after deletion of a key:value pair:  {'EmpName': 'Steve', 'EmpID': 123, 'DOJ': '9/15/2017', 'Domain': 'CRM'}\n"
     ]
    }
   ],
   "source": [
    "#This method deletes the specified key-value pair from an existing dictionary using 'del' keyword in the following way:\n",
    "#del dictionaryName[key]\n",
    "\n",
    "print(\"Dictionary before deletion of a key:value pair: \",Dict_example)\n",
    "print(\"\")\n",
    "del Dict_example['Status']\n",
    "print(\"Dictionary after deletion of a key:value pair: \",Dict_example)\n"
   ]
  },
  {
   "cell_type": "markdown",
   "metadata": {},
   "source": [
    "***Clear dictionary using clear() function***"
   ]
  },
  {
   "cell_type": "code",
   "execution_count": 8,
   "metadata": {},
   "outputs": [
    {
     "name": "stdout",
     "output_type": "stream",
     "text": [
      "Dictionary after clear operation: {}\n"
     ]
    }
   ],
   "source": [
    "#clear() function can be used to clear entire dictionary at one go as follows:\n",
    "#dictionaryName.clear()\n",
    "\n",
    "Dict_example.clear()\n",
    "print(\"Dictionary after clear operation:\" ,Dict_example)"
   ]
  },
  {
   "cell_type": "markdown",
   "metadata": {},
   "source": [
    "***items() function in Dictionary***"
   ]
  },
  {
   "cell_type": "code",
   "execution_count": 9,
   "metadata": {},
   "outputs": [
    {
     "data": {
      "text/plain": [
       "dict_items([('University', 'Rutgers'), ('Course', 'MIT'), ('Subject', 'DS'), ('SubjectCode', 30093), ('TotalStudents', 140), ('Credits', 30)])"
      ]
     },
     "execution_count": 9,
     "metadata": {},
     "output_type": "execute_result"
    }
   ],
   "source": [
    "#All dictionary items(key:value pairs) can be displayed using items() function as follows:\n",
    "#dictionaryName.items()\n",
    "\n",
    "Dict_eg={'University':'Rutgers','Course':'MIT','Subject':'DS', 'SubjectCode':30093,'TotalStudents':140,'Credits':30}\n",
    "Dict_eg.items()"
   ]
  },
  {
   "cell_type": "markdown",
   "metadata": {},
   "source": [
    "***Keys() & Values() functions in Dictionary***"
   ]
  },
  {
   "cell_type": "code",
   "execution_count": 10,
   "metadata": {},
   "outputs": [
    {
     "name": "stdout",
     "output_type": "stream",
     "text": [
      "Keys from Dictionary: dict_keys(['University', 'Course', 'Subject', 'SubjectCode', 'TotalStudents', 'Credits'])\n",
      "Values from Dictionary: dict_values(['Rutgers', 'MIT', 'DS', 30093, 140, 30])\n"
     ]
    }
   ],
   "source": [
    "#keys() and value() functions can be used to access keys or values of the dictionary in the following way:\n",
    "#dictionaryName.keys()\n",
    "#dictionaryName.values()\n",
    "\n",
    "print(\"Keys from Dictionary:\",Dict_eg.keys())\n",
    "print(\"Values from Dictionary:\",Dict_eg.values())"
   ]
  },
  {
   "cell_type": "markdown",
   "metadata": {},
   "source": [
    "***Len() function in Dictionary***"
   ]
  },
  {
   "cell_type": "code",
   "execution_count": 11,
   "metadata": {},
   "outputs": [
    {
     "name": "stdout",
     "output_type": "stream",
     "text": [
      "Size of Dictionary is:  4\n"
     ]
    }
   ],
   "source": [
    "#len() function can be used to find out he length of the dictionary as:\n",
    "#len(dictionaryName)\n",
    "#Above code returns the number of key:value pairs in Dictionary\n",
    "\n",
    "def lenFunc():\n",
    "    dict={1:'Dell',2:'Accenture',3:'BOFA',4:'Amazon'}\n",
    "    print(\"Size of Dictionary is: \",len(dict))\n",
    "lenFunc()"
   ]
  },
  {
   "cell_type": "markdown",
   "metadata": {},
   "source": [
    "***'in' keyword in Dictionary***"
   ]
  },
  {
   "cell_type": "code",
   "execution_count": 17,
   "metadata": {},
   "outputs": [
    {
     "name": "stdout",
     "output_type": "stream",
     "text": [
      "True\n",
      "False\n"
     ]
    }
   ],
   "source": [
    "#'in' keyword checks the availability of written key in dictionary and returns true or false value based on its availability:\n",
    "#key in dictionaryName\n",
    "#Above statement can be used to check particular key's existence in Dictionary\n",
    "\n",
    "dict1={'Empname':'Adam','EmpId':123,'EmpDomain':'CRM'}\n",
    "print('Empname' in dict1)\n",
    "print(123 in dict1)#As 123 is a value and not a key, it returns result as false"
   ]
  },
  {
   "cell_type": "markdown",
   "metadata": {},
   "source": [
    "***Sum() function in Dictionary***"
   ]
  },
  {
   "cell_type": "code",
   "execution_count": 18,
   "metadata": {},
   "outputs": [
    {
     "name": "stdout",
     "output_type": "stream",
     "text": [
      "Sum of all values in Dictionary:  100\n",
      "Sum of all keys in Dictionary:  10\n"
     ]
    }
   ],
   "source": [
    "#sum() function returns the sum of all dictionary values and keys.It can e used as:\n",
    "#sum(dictionaryName.values)\n",
    "#Above statement returns the sum of all dictionary values\n",
    "#sum(dictionaryName.keys)\n",
    "#Above statement returns the sum of all dictionary keys\n",
    "\n",
    "dict={1:10,2:20,3:30,4:40}\n",
    "print(\"Sum of all values in Dictionary: \",sum(dict.values()))\n",
    "print(\"Sum of all keys in Dictionary: \",sum(dict.keys()))"
   ]
  },
  {
   "cell_type": "markdown",
   "metadata": {},
   "source": [
    "***copy() function in Dictionary*** "
   ]
  },
  {
   "cell_type": "code",
   "execution_count": 19,
   "metadata": {},
   "outputs": [
    {
     "name": "stdout",
     "output_type": "stream",
     "text": [
      "Copy of dict1: \n",
      "{'Empname': 'Adam', 'EmpId': 123, 'EmpDomain': 'CRM'}\n"
     ]
    }
   ],
   "source": [
    "#copy() function is used to create exact replica of an existing dictionary as:\n",
    "#dictionaryName.copy()\n",
    "\n",
    "print(\"Copy of dict1: \")\n",
    "print(dict1.copy())"
   ]
  },
  {
   "cell_type": "markdown",
   "metadata": {},
   "source": [
    "## FUNCTIONS"
   ]
  },
  {
   "cell_type": "code",
   "execution_count": null,
   "metadata": {
    "collapsed": true
   },
   "outputs": [],
   "source": [
    "# Function is a group of statements which is used to perform specific task.It helps to break program in small parts\n",
    "# It avoids repitition and makes code reusable.\n",
    "\n",
    "#Syntax of Function:\n",
    "\n",
    "#  def functionName():\n",
    "#  \"\"\"docstring\"\"\"\n",
    "#     statement(stat)\n",
    "#     return \"\"\n",
    "\n",
    "# Usage of each keyword in function syntax:\n",
    "\n",
    "# def-This keyword indicates the start of function\n",
    "#FunctionName- functionName can be separated with underscore as 'function_Name' or we can use came-case rule as 'functionName'\n",
    "# :(colon)-Colon indicates the end of function header\n",
    "# docstring: It is optional to write a docstring in function which can be used to describe the working of a function\n",
    "# statement:Group of statements make up the function body.All statements must have same indentation level\n",
    "# return- return statement is optional which can be used to return a value from fucntion"
   ]
  },
  {
   "cell_type": "markdown",
   "metadata": {},
   "source": [
    "**Types of Functions**\n"
   ]
  },
  {
   "cell_type": "code",
   "execution_count": null,
   "metadata": {
    "collapsed": true
   },
   "outputs": [],
   "source": [
    "# Functions can be divided in 2 parts:\n",
    "# 1)Built-in functions\n",
    "# 2)User defined functions"
   ]
  },
  {
   "cell_type": "markdown",
   "metadata": {},
   "source": [
    "**I) Built-in functions**"
   ]
  },
  {
   "cell_type": "code",
   "execution_count": null,
   "metadata": {
    "collapsed": true
   },
   "outputs": [],
   "source": [
    "# Functions which are ready to use at any moment of time are called as Buil-in functions.\n",
    "# There are variety of built-in functions in Python which performs predefined task such as print(),list(),chr(),ord() etc\n",
    "# Examples of few built-in functions are as follow:"
   ]
  },
  {
   "cell_type": "markdown",
   "metadata": {},
   "source": [
    "***list() function***"
   ]
  },
  {
   "cell_type": "code",
   "execution_count": 21,
   "metadata": {},
   "outputs": [
    {
     "name": "stdout",
     "output_type": "stream",
     "text": [
      "This is the list of all Courses: ['Intro to DS', 'ABI', 'DADM', 'DAV']\n",
      "\n"
     ]
    }
   ],
   "source": [
    "#list() function is used to display all the items from list in following way:\n",
    "# listExample=[item1,item2,...,itemn]\n",
    "# print(list(listExample))\n",
    "# Example of list is mentiond below:\n",
    "\n",
    "def listFunc():\n",
    "        subjectList=['Intro to DS','ABI','DADM','DAV'] #declaration of list\n",
    "        print(\"This is the list of all Courses:\",list(subjectList)) #using list() function to display list named 'subjectList' \n",
    "        return \"\"\n",
    "    \n",
    "print(listFunc())"
   ]
  },
  {
   "cell_type": "markdown",
   "metadata": {},
   "source": [
    "***max() function***"
   ]
  },
  {
   "cell_type": "code",
   "execution_count": 25,
   "metadata": {},
   "outputs": [
    {
     "name": "stdout",
     "output_type": "stream",
     "text": [
      "Largest number of list is: 45673\n",
      "\n"
     ]
    }
   ],
   "source": [
    "### max() function is used to calculate the largest value of list of multiple values, it can be used as:\n",
    "# listExample=[item1,item2,...,itemn]\n",
    "# print(max(listExample))\n",
    "# Example of the max() function is as shown below:\n",
    "\n",
    "def maxFunc():\n",
    "        list1= [1235,4562,233,45673] #list declaration\n",
    "        print(\"Largest number of list is:\",max(list1)) # using max() function to determine largest values of from 'list1'\n",
    "        return \"\"\n",
    "    \n",
    "print(maxFunc())"
   ]
  },
  {
   "cell_type": "markdown",
   "metadata": {},
   "source": [
    "***min() function***"
   ]
  },
  {
   "cell_type": "code",
   "execution_count": 26,
   "metadata": {},
   "outputs": [
    {
     "name": "stdout",
     "output_type": "stream",
     "text": [
      "Smallest number of list is: 10\n",
      "\n"
     ]
    }
   ],
   "source": [
    "# min() function is used to calculate the smallest value of list of multiple values, it can be used as:\n",
    "# listExample=[item1,item2,...,itemn]\n",
    "# print(min(listExample))\n",
    "# Example of the min() function is as shown below:\n",
    "\n",
    "def minFunc():\n",
    "        list1= [10,30,20,47]# list declaration\n",
    "        print(\"Smallest number of list is:\",min(list1))# using max() function to determine largest values of from 'list1'\n",
    "        return \"\"\n",
    "\n",
    "print(minFunc())"
   ]
  },
  {
   "cell_type": "markdown",
   "metadata": {},
   "source": [
    "***ord() function***"
   ]
  },
  {
   "cell_type": "code",
   "execution_count": 27,
   "metadata": {},
   "outputs": [
    {
     "name": "stdout",
     "output_type": "stream",
     "text": [
      "Enter value: A\n",
      "ASCII value of A  is  65\n"
     ]
    }
   ],
   "source": [
    "# ord() function is used to determine the ascii value of entered string, it can be used in following manner:\n",
    "# ord(string)\n",
    "# Example of ord() function is given below:\n",
    "\n",
    "def asciiFunc(var):\n",
    "    \n",
    "    print(\"ASCII value of\",var,\" is \",ord(var))# using ord() function to calculate its ascii value\n",
    "\n",
    "var=input(\"Enter value: \")#get input from user\n",
    "asciiFunc(var)"
   ]
  },
  {
   "cell_type": "markdown",
   "metadata": {},
   "source": [
    "***bool() function***"
   ]
  },
  {
   "cell_type": "code",
   "execution_count": 28,
   "metadata": {},
   "outputs": [
    {
     "name": "stdout",
     "output_type": "stream",
     "text": [
      "The condition written is  False\n"
     ]
    }
   ],
   "source": [
    "# bool() function returns true or false values based on the specific condition, it can be used as follows\n",
    "# bool(statement1... condition... statement2)\n",
    "# Example of bool() function is mentioned below:\n",
    "\n",
    "def boolFunc():\n",
    "        print(\"The condition written is \",bool(3<2)) #usingg bool() function to check condition (3<2)\n",
    "        \n",
    "boolFunc()"
   ]
  },
  {
   "cell_type": "markdown",
   "metadata": {},
   "source": [
    "***len() function***"
   ]
  },
  {
   "cell_type": "code",
   "execution_count": 29,
   "metadata": {},
   "outputs": [
    {
     "name": "stdout",
     "output_type": "stream",
     "text": [
      "Length of dictionary is:  3\n"
     ]
    }
   ],
   "source": [
    "# len function is used to determine the length of the dictionaru or list or vector, it can be used as:\n",
    "# dictExample={key1:value1,key2:value2}\n",
    "# print(len(dictExample))\n",
    "\n",
    "def lenFunc():\n",
    "        dict={'University':'Rutgers','Course':'MIT','Term':'fall'}# declaration of dictionary\n",
    "        print(\"Length of dictionary is: \",len(dict)) #using len() function to calculate length of the dictionary\n",
    "\n",
    "lenFunc()"
   ]
  },
  {
   "cell_type": "markdown",
   "metadata": {},
   "source": [
    "***pow() Function***"
   ]
  },
  {
   "cell_type": "code",
   "execution_count": 30,
   "metadata": {},
   "outputs": [
    {
     "name": "stdout",
     "output_type": "stream",
     "text": [
      "Enter base: 4\n",
      "Enter Index: 5\n",
      "4 to the power of 5 is: 1024\n",
      "\n"
     ]
    }
   ],
   "source": [
    "# pow() function is used to calculate result of x to the power of y, it can be used as:\n",
    "# pow(x,y)\n",
    "#Example of pow() function is given below\n",
    "\n",
    "def powFunc():\n",
    "    base=int(input(\"Enter base: \"))# get base as input\n",
    "    index=int(input(\"Enter Index: \"))# get index as input\n",
    "    print(base,\"to the power of\",index,\"is:\",pow(base,index))#calculate base to the power of index using pow() function\n",
    "    return \"\"\n",
    "print(powFunc())"
   ]
  },
  {
   "cell_type": "markdown",
   "metadata": {},
   "source": [
    "***II) User defined functions***"
   ]
  },
  {
   "cell_type": "code",
   "execution_count": null,
   "metadata": {
    "collapsed": true
   },
   "outputs": [],
   "source": [
    "# Functions which are defined by the programmer to perform specific tasks are known as User defined functions\n",
    "# Examples of few User Defined functions are as follows:"
   ]
  },
  {
   "cell_type": "markdown",
   "metadata": {},
   "source": [
    "***Function to check Even/Odd number***"
   ]
  },
  {
   "cell_type": "code",
   "execution_count": 31,
   "metadata": {},
   "outputs": [
    {
     "name": "stdout",
     "output_type": "stream",
     "text": [
      "Enter Number 67\n",
      "67 is an odd number\n"
     ]
    }
   ],
   "source": [
    "#Below function checkes whether the entered number is even or odd and it prints the result accordingly\n",
    "\n",
    "def evenOdd(num):\n",
    "        if(num%2==0):# if number mod 2 is 0 then it is considered to be an even number else and odd number\n",
    "            print (str(num) + \" is an even number\")\n",
    "        else: \n",
    "            print(str(num)+ \" is an odd number\")\n",
    "            \n",
    "num=int(input(\"Enter Number \"))# get number input\n",
    "evenOdd(num)"
   ]
  },
  {
   "cell_type": "markdown",
   "metadata": {},
   "source": [
    "***Function to check Prime Number***"
   ]
  },
  {
   "cell_type": "code",
   "execution_count": 32,
   "metadata": {},
   "outputs": [
    {
     "name": "stdout",
     "output_type": "stream",
     "text": [
      "Enter Number 23\n",
      "23 is a prime number\n",
      "\n"
     ]
    }
   ],
   "source": [
    "#Followint function checks whether the entered number is prime or not and it prints the result accordingly\n",
    "\n",
    "def primeNumber(num):\n",
    "        if num > 1: # 1 is not a prime number\n",
    "            for x in range(2,num):\n",
    "                if (num % x) == 0: #if an entered number mod other number is 0 then the number is considered to be a composite number\n",
    "                    print(str(num)+\" is not a prime number\")\n",
    "                    return \"\"\n",
    "                else:\n",
    "                    print(str(num)+\" is a prime number\")\n",
    "                    return \"\"\n",
    "                    \n",
    "num=int(input(\"Enter Number \"))# get number input\n",
    "print(primeNumber(num))"
   ]
  },
  {
   "cell_type": "markdown",
   "metadata": {},
   "source": [
    "***Function to Calculate area of the square***"
   ]
  },
  {
   "cell_type": "code",
   "execution_count": 2,
   "metadata": {},
   "outputs": [
    {
     "name": "stdout",
     "output_type": "stream",
     "text": [
      "Enter Side of the Square: 5\n",
      "Area of the square is:  25\n"
     ]
    }
   ],
   "source": [
    "#This function takes the side of square as an input from user, calculates its area and prints result accordingly\n",
    "\n",
    "def SquareArea(num):\n",
    "    result=num*num # calculating the area of square as side*side \n",
    "    print(\"Area of the square is: \",result)\n",
    "        \n",
    "num=int(input(\"Enter Side of the Square: \"))#get the side of square   \n",
    "SquareArea(num)"
   ]
  },
  {
   "cell_type": "markdown",
   "metadata": {},
   "source": [
    "***Function to calculate the product of list items using for loop***"
   ]
  },
  {
   "cell_type": "code",
   "execution_count": 3,
   "metadata": {},
   "outputs": [
    {
     "name": "stdout",
     "output_type": "stream",
     "text": [
      "Product of all List items:  630\n"
     ]
    }
   ],
   "source": [
    "# This function calculates the product of all values from Dictionary or list or vector and prints the result accordingly\n",
    "\n",
    "def MultiplyFunc():\n",
    "    MultiplyItems={'A':70,'B':3,'C':3} # dictionary declaration \n",
    "    tot=1\n",
    "    for i in MultiplyItems:    \n",
    "        tot=tot*MultiplyItems[i] # calculating product of all list items\n",
    "    print(\"Product of all List items: \",tot)\n",
    "\n",
    "MultiplyFunc()"
   ]
  },
  {
   "cell_type": "markdown",
   "metadata": {},
   "source": [
    "# CLASS"
   ]
  },
  {
   "cell_type": "code",
   "execution_count": null,
   "metadata": {
    "collapsed": true
   },
   "outputs": [],
   "source": [
    "# Class is a collectn of objects,functions and variables\n",
    "# Syntax of class:\n",
    "\n",
    "# class className:\n",
    "#   docstring\n",
    "#   pass\n",
    "#   def FunctionName(self)--self can be used to create instance of the class\n",
    "#   print()\n",
    "\n",
    "#class- This keyword indicates the start of class\n",
    "# :(colon)-Colon indicates the end of function header\n",
    "# docstring: It is optional to write a docstring in class which describes working of the class\n",
    "\n",
    "#object: object supports two kinds of operations: attribute references and instantiation\n",
    "\n",
    "#Object Syntax:\n",
    "\n",
    "#   objVar= className()-Instantiation operation\n",
    "\n",
    "#   def objVar(self)- Attribute references operation\n",
    "#   statement1....\n",
    "\n",
    "#Examples of classes are mentioned below:"
   ]
  },
  {
   "cell_type": "markdown",
   "metadata": {},
   "source": [
    "***Instantation operation example***"
   ]
  },
  {
   "cell_type": "code",
   "execution_count": 4,
   "metadata": {},
   "outputs": [
    {
     "name": "stdout",
     "output_type": "stream",
     "text": [
      "Details of 1st Employee : First Name: James , Last Name: Daniel , Salary: 7654\n",
      "Details of 2nd Employee : First Name: Merlin , Last Name: Jose , Salary: 10000\n"
     ]
    }
   ],
   "source": [
    "#In this class instances of Employee class have been created to store information of two employees\n",
    "\n",
    "class Employee:\n",
    "    pass\n",
    "\n",
    "EmpfName=''\n",
    "Emplname=''\n",
    "Empsalary=''\n",
    "\n",
    "def __init__(emp,Empfname,Emplname,Empsalary):#__init__ constructor example\n",
    "    print()\n",
    "    return \"\"\n",
    "\n",
    "ob=Employee() # creating an instance of the class\n",
    "\n",
    "emp1=Employee() # creating instance of class Employee to store values of first employee\n",
    "emp1.Empfname='James' #store name of 1st employee to 1st instance emp1 of class Employee\n",
    "emp1.Emplname='Daniel'\n",
    "emp1.Empsalary=7654\n",
    "\n",
    "emp2=Employee()# creating instance of class Employee to store values of second employee\n",
    "emp2.Empfname='Merlin'#store name 2nd employee to 1st instance emp1 of class Employee\n",
    "emp2.Emplname='Jose'\n",
    "emp2.Empsalary=10000\n",
    "\n",
    "print(\"Details of 1st Employee : \"\n",
    "        \"First Name:\",emp1.Empfname,\n",
    "         \", Last Name:\", emp1.Emplname,\n",
    "         \", Salary:\", emp1.Empsalary) #printing details of 1st employee\n",
    "\n",
    "print(\"Details of 2nd Employee : \"\n",
    "        \"First Name:\",emp2.Empfname,\n",
    "         \", Last Name:\", emp2.Emplname,\n",
    "         \", Salary:\", emp2.Empsalary) #printing details of 1st employee"
   ]
  },
  {
   "cell_type": "markdown",
   "metadata": {},
   "source": [
    "***Example of Attribute reference operation and Deletion of object using 'del' keyword***"
   ]
  },
  {
   "cell_type": "code",
   "execution_count": 5,
   "metadata": {},
   "outputs": [
    {
     "name": "stdout",
     "output_type": "stream",
     "text": [
      "('666', 'Merlin')\n"
     ]
    },
    {
     "ename": "NameError",
     "evalue": "name 'obj' is not defined",
     "output_type": "error",
     "traceback": [
      "\u001b[1;31m---------------------------------------------------------------------------\u001b[0m",
      "\u001b[1;31mNameError\u001b[0m                                 Traceback (most recent call last)",
      "\u001b[1;32m<ipython-input-5-0f798c7cee40>\u001b[0m in \u001b[0;36m<module>\u001b[1;34m()\u001b[0m\n\u001b[0;32m     14\u001b[0m \u001b[0mprint\u001b[0m\u001b[1;33m(\u001b[0m\u001b[0mobj\u001b[0m\u001b[1;33m.\u001b[0m\u001b[0mfunct1\u001b[0m\u001b[1;33m(\u001b[0m\u001b[1;33m)\u001b[0m\u001b[1;33m)\u001b[0m \u001b[1;31m#obj function is called to print required output\u001b[0m\u001b[1;33m\u001b[0m\u001b[0m\n\u001b[0;32m     15\u001b[0m \u001b[1;32mdel\u001b[0m \u001b[0mobj\u001b[0m \u001b[1;31m#del keyword is used to delete an 'obj' object of the class\u001b[0m\u001b[1;33m\u001b[0m\u001b[0m\n\u001b[1;32m---> 16\u001b[1;33m \u001b[0mprint\u001b[0m\u001b[1;33m(\u001b[0m\u001b[0mobj\u001b[0m\u001b[1;33m.\u001b[0m\u001b[0mfunct1\u001b[0m\u001b[1;33m(\u001b[0m\u001b[1;33m)\u001b[0m\u001b[1;33m)\u001b[0m \u001b[1;31m#Error occured on this line as \"name obj is not defined\" which states that object obj has been successfully deleted\u001b[0m\u001b[1;33m\u001b[0m\u001b[0m\n\u001b[0m",
      "\u001b[1;31mNameError\u001b[0m: name 'obj' is not defined"
     ]
    }
   ],
   "source": [
    "#del keyword can be used to delete any attribute value or also an entire object of the class\n",
    "\n",
    "class delAttribute:\n",
    "    id=''\n",
    "    name=''\n",
    "    def funct1(self):# self acts as a default instance of a class.This is an example of attribute referece operation \n",
    "        information=(self.id,self.name)\n",
    "        return information\n",
    "\n",
    "obj=delAttribute() #This is an example of instantiation\n",
    "obj.id='666' #assigning values to variables id and name \n",
    "obj.name='Merlin'\n",
    "\n",
    "print(obj.funct1()) #obj function is called to print required output\n",
    "del obj #del keyword is used to delete an 'obj' object of the class\n",
    "print(obj.funct1()) #Error occured on this line as \"name obj is not defined\" which states that object obj has been successfully deleted\n"
   ]
  },
  {
   "cell_type": "markdown",
   "metadata": {},
   "source": [
    "As we can see the Error occured on print(obj.funct1()) line as \"name obj is not defined\" which states that object obj has been successfully deleted"
   ]
  },
  {
   "cell_type": "markdown",
   "metadata": {},
   "source": [
    "***Grade Example- This class calculates the grade of students based on entered marks***"
   ]
  },
  {
   "cell_type": "code",
   "execution_count": 6,
   "metadata": {},
   "outputs": [
    {
     "name": "stdout",
     "output_type": "stream",
     "text": [
      "Enter ABI marks 90\n",
      "Enter DS marks 98\n",
      "Enter DAV marks 97\n",
      "Enter DADM marks 89\n",
      "Grade obtained: A\n"
     ]
    }
   ],
   "source": [
    "class Grade:\n",
    "    \n",
    "    pass\n",
    "    \n",
    "    def gradeAssign():\n",
    "        ABI=float(input(\"Enter ABI marks \"))# get ABI marks as input\n",
    "        DS=float(input(\"Enter DS marks \"))\n",
    "        DAV=float(input(\"Enter DAV marks \"))\n",
    "        DADM=float(input(\"Enter DADM marks \"))\n",
    "        \n",
    "        if(ABI<0 or ABI>100):# Display error message if marks are less than 0 or greater than 100\n",
    "            print(\"Please entire valid ABI marks \")\n",
    "        if(DS<0 or DS>100):\n",
    "            print(\"Please entire valid DS marks \")\n",
    "        if(DAV<0 or DAV>100):\n",
    "            print(\"Please entire valid DAV marks \")\n",
    "        if(DADM<0 or DADM>100):\n",
    "            print(\"Please entire valid DADM marks \")\n",
    "    \n",
    "        \n",
    "        marks=((ABI+DS+DAV+DADM)/400)*100 #calculate percentage\n",
    "        \n",
    "        if(marks<50): #Assign grades based on the marks condition\n",
    "            print(\"Grade obtained: F\")\n",
    "        elif(50<=marks<60):\n",
    "            print(\"Grade obtained: E\")\n",
    "        elif(60<=marks<70):\n",
    "            print(\"Grade obtained: D\")\n",
    "        elif(70<=marks<80):\n",
    "            print(\"Grade obtained: C\")\n",
    "        elif(80<=marks<90):\n",
    "            print(\"Grade obtained: B\") \n",
    "        elif(90<=marks<=100):\n",
    "            print(\"Grade obtained: A\")\n",
    "            \n",
    "    gradeAssign()"
   ]
  },
  {
   "cell_type": "markdown",
   "metadata": {},
   "source": [
    "***Calculator example- This class acts as a calculator which allows users to perform various operations such as add,subtract,multiply,divide,mod and average on 2 numbers***"
   ]
  },
  {
   "cell_type": "code",
   "execution_count": 28,
   "metadata": {},
   "outputs": [
    {
     "name": "stdout",
     "output_type": "stream",
     "text": [
      "Please choose: \n",
      "    1 --- ADDITION\n",
      "    2 --- SUBTRACTION\n",
      "    3 --- MULTIPLICATION\n",
      "    4 --- DIVISION\n",
      "    5 --- MOD\n",
      "    6 --- AVERAGE\n",
      "    Input: 4\n",
      "Enter 1st number4\n",
      "Enter 2nd number5\n",
      "Division of 4 and 5 is 0.8\n"
     ]
    }
   ],
   "source": [
    "class Calculate:\n",
    "    Calculator=input(\"\"\"Please choose: \n",
    "    1 --- ADDITION\n",
    "    2 --- SUBTRACTION\n",
    "    3 --- MULTIPLICATION\n",
    "    4 --- DIVISION\n",
    "    5 --- MOD\n",
    "    6 --- AVERAGE\n",
    "    Input: \"\"\") # get input for specific operation to perform\n",
    "    if (Calculator=='1'):\n",
    "        num1=int(input(\"Enter 1st number\"))# get 1st number \n",
    "        num2=int(input(\"Enter 2nd number\"))# get 2nd number for addition\n",
    "        num3=(num1+num2) # add num1 and num2\n",
    "        print(\"Addition of\",num1, \"and\",num2,\"is\",num3)\n",
    "    elif (Calculator=='2'):\n",
    "        num1=int(input(\"Enter 1st number\"))\n",
    "        num2=int(input(\"Enter 2nd number\"))\n",
    "        num3=num1-num2 # subtract num2 from num1\n",
    "        print(\"Subtraction of\",num1, \"and\",num2,\"is\",num3)\n",
    "    elif (Calculator=='3'):\n",
    "        num1=int(input(\"Enter 1st number\"))\n",
    "        num2=int(input(\"Enter 2nd number\"))\n",
    "        num3=num1*num2 # multiply num1 with num2\n",
    "        print(\"Multiplication of\",num1, \"and\",num2,\"is\",num3)\n",
    "    elif (Calculator=='4'):\n",
    "        num1=int(input(\"Enter 1st number\"))\n",
    "        num2=int(input(\"Enter 2nd number\"))\n",
    "        num3=num1/num2 # divide num 1 by num2\n",
    "        print(\"Division of\",num1, \"and\",num2,\"is\",num3)\n",
    "    elif (Calculator=='5'):\n",
    "        num1=int(input(\"Enter 1st number\"))\n",
    "        num2=int(input(\"Enter 2nd number\"))\n",
    "        num3=num1%num2 # calculate a mod of num1 to num2\n",
    "        print(\"Mod of\",num1, \"and\",num2,\"is\",num3)\n",
    "    elif (Calculator=='6'):\n",
    "        num1=int(input(\"Enter 1st number\"))\n",
    "        num2=int(input(\"Enter 2nd number\"))\n",
    "        num3=(num1+num2)/2 # calculate an average of two numbers\n",
    "        print(\"Average of\",num1, \"and\",num2,\"is\",num3)\n",
    "    else:\n",
    "        print(\"\"\"\n",
    "Invalid Input\"\"\")# Error message, if the entered input is other than 1,2,3,4,5 and 6"
   ]
  }
 ],
 "metadata": {
  "kernelspec": {
   "display_name": "Python 3",
   "language": "python",
   "name": "python3"
  },
  "language_info": {
   "codemirror_mode": {
    "name": "ipython",
    "version": 3
   },
   "file_extension": ".py",
   "mimetype": "text/x-python",
   "name": "python",
   "nbconvert_exporter": "python",
   "pygments_lexer": "ipython3",
   "version": "3.6.1"
  }
 },
 "nbformat": 4,
 "nbformat_minor": 2
}
