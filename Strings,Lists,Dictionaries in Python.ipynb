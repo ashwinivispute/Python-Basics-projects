{
 "cells": [
  {
   "cell_type": "markdown",
   "metadata": {},
   "source": [
    "# Working around with Strings,Lists,Sorting & dictionary in Python"
   ]
  },
  {
   "cell_type": "markdown",
   "metadata": {
    "scrolled": true
   },
   "source": [
    "## 1.STRINGS"
   ]
  },
  {
   "cell_type": "markdown",
   "metadata": {},
   "source": [
    "*** Assigning string values to variables***"
   ]
  },
  {
   "cell_type": "code",
   "execution_count": 189,
   "metadata": {
    "collapsed": true
   },
   "outputs": [],
   "source": [
    "var1='Data'\n",
    "var2='Science'"
   ]
  },
  {
   "cell_type": "code",
   "execution_count": 190,
   "metadata": {},
   "outputs": [
    {
     "name": "stdout",
     "output_type": "stream",
     "text": [
      "Data\n"
     ]
    }
   ],
   "source": [
    "print(var1)"
   ]
  },
  {
   "cell_type": "markdown",
   "metadata": {},
   "source": [
    "***Concatenation of two strings***\n"
   ]
  },
  {
   "cell_type": "code",
   "execution_count": 8,
   "metadata": {},
   "outputs": [
    {
     "name": "stdout",
     "output_type": "stream",
     "text": [
      "Data Science\n"
     ]
    }
   ],
   "source": [
    "print (var1 +\" \" + var2)"
   ]
  },
  {
   "cell_type": "markdown",
   "metadata": {},
   "source": [
    "***Repetition of Strings***"
   ]
  },
  {
   "cell_type": "code",
   "execution_count": 191,
   "metadata": {},
   "outputs": [
    {
     "name": "stdout",
     "output_type": "stream",
     "text": [
      "We can repeat the string for as many times we want\n",
      "ScienceScienceScienceScienceScience\n"
     ]
    }
   ],
   "source": [
    "print (\"We can repeat the string for as many times we want\")\n",
    "print (var2 * 5) # As we wanted to repeat Science for 5 times we have used * 5 here "
   ]
  },
  {
   "cell_type": "markdown",
   "metadata": {},
   "source": [
    "***Accessing character in a string***"
   ]
  },
  {
   "cell_type": "code",
   "execution_count": 230,
   "metadata": {},
   "outputs": [
    {
     "name": "stdout",
     "output_type": "stream",
     "text": [
      "If we need to access 3rd character of var1 then it can be done in a following way  \n",
      "\n",
      "Third letter of var1:t\n",
      "Last character of var2:e\n"
     ]
    }
   ],
   "source": [
    "print(\"\"\"If we need to access 3rd character of var1 then it can be done in a following way  \"\"\")\n",
    "##\"\"\" triple quotes can be used to form a paragraph\n",
    "print(\"\")\n",
    "print ('Third letter of var1:' +var1[2])\n",
    "print ('Last character of var2:' +var2[-1]) #Last character of any string can be refered as index -1,second last character as -2 and so on."
   ]
  },
  {
   "cell_type": "markdown",
   "metadata": {},
   "source": [
    "***Determining Length of the string using len() function***"
   ]
  },
  {
   "cell_type": "code",
   "execution_count": 231,
   "metadata": {},
   "outputs": [
    {
     "name": "stdout",
     "output_type": "stream",
     "text": [
      "Len() function can be used to check the length of the String\n",
      "\n",
      "Length of var1:  4\n"
     ]
    }
   ],
   "source": [
    "print(\"Len() function can be used to check the length of the String\")\n",
    "print(\"\")\n",
    "print(\"Length of var1:\" +\" \",len(var1))"
   ]
  },
  {
   "cell_type": "markdown",
   "metadata": {},
   "source": [
    "***Deleting a string using del keyword***"
   ]
  },
  {
   "cell_type": "code",
   "execution_count": 14,
   "metadata": {},
   "outputs": [
    {
     "name": "stdout",
     "output_type": "stream",
     "text": [
      "We can delete a string using del keyword:\n"
     ]
    },
    {
     "ename": "NameError",
     "evalue": "name 'var1' is not defined",
     "output_type": "error",
     "traceback": [
      "\u001b[1;31m---------------------------------------------------------------------------\u001b[0m",
      "\u001b[1;31mNameError\u001b[0m                                 Traceback (most recent call last)",
      "\u001b[1;32m<ipython-input-14-94d5dfadf2e0>\u001b[0m in \u001b[0;36m<module>\u001b[1;34m()\u001b[0m\n\u001b[0;32m      1\u001b[0m \u001b[0mprint\u001b[0m \u001b[1;33m(\u001b[0m\u001b[1;34m\"We can delete a string using del keyword:\"\u001b[0m\u001b[1;33m)\u001b[0m\u001b[1;33m\u001b[0m\u001b[0m\n\u001b[0;32m      2\u001b[0m \u001b[1;32mdel\u001b[0m \u001b[0mvar1\u001b[0m\u001b[1;33m\u001b[0m\u001b[0m\n\u001b[1;32m----> 3\u001b[1;33m \u001b[0mprint\u001b[0m\u001b[1;33m(\u001b[0m\u001b[0mvar1\u001b[0m\u001b[1;33m)\u001b[0m\u001b[1;33m\u001b[0m\u001b[0m\n\u001b[0m",
      "\u001b[1;31mNameError\u001b[0m: name 'var1' is not defined"
     ]
    }
   ],
   "source": [
    "print (\"We can delete a string using del keyword:\")\n",
    "del var1\n",
    "print(var1)"
   ]
  },
  {
   "cell_type": "markdown",
   "metadata": {},
   "source": [
    "As we can see from last print statement it is giving an erro of var1 not found since we have recently deleted var1 variable in above statement 'del var1' "
   ]
  },
  {
   "cell_type": "markdown",
   "metadata": {},
   "source": [
    "***Capitalization of the string using capitalize() function***"
   ]
  },
  {
   "cell_type": "code",
   "execution_count": 235,
   "metadata": {},
   "outputs": [
    {
     "name": "stdout",
     "output_type": "stream",
     "text": [
      "Use Capitalize() function to capitalise the 1st letter of the string\n",
      "New york is the most beautiful city\n"
     ]
    }
   ],
   "source": [
    "statement1='new York is the most beautiful city'\n",
    "print (\"Use Capitalize() function to capitalise the 1st letter of the string\")\n",
    "\n",
    "print (statement1.capitalize())"
   ]
  },
  {
   "cell_type": "markdown",
   "metadata": {},
   "source": [
    "***Updation of an existing string***"
   ]
  },
  {
   "cell_type": "code",
   "execution_count": 232,
   "metadata": {},
   "outputs": [
    {
     "name": "stdout",
     "output_type": "stream",
     "text": [
      "Updation of exisiting string can be done as follows-\n",
      "\n",
      "Updated string:Rutgers Business school\n"
     ]
    }
   ],
   "source": [
    "print(\"Updation of exisiting string can be done as follows-\")\n",
    "print(\"\")\n",
    "stringToBeUpdated= 'Rutgers School'\n",
    "print(\"Updated string:\" + stringToBeUpdated[:8]+'Business school')"
   ]
  },
  {
   "cell_type": "markdown",
   "metadata": {},
   "source": [
    "## 2. LISTS \n"
   ]
  },
  {
   "cell_type": "markdown",
   "metadata": {},
   "source": [
    "***Types of Lists***"
   ]
  },
  {
   "cell_type": "code",
   "execution_count": 201,
   "metadata": {},
   "outputs": [
    {
     "name": "stdout",
     "output_type": "stream",
     "text": [
      "These are the different types of the List\n"
     ]
    }
   ],
   "source": [
    "print(\"These are the different types of the List\")\n",
    "\n",
    "list_example1 = [] #empty list\n",
    "list_example2 = [1,2,3,4] #list of integers\n",
    "list_example3 = [1, 'Ash', 3.4] #list of mixed data types\n",
    "list_example4 = [1,'Alpine', 44, ['List within List']] #a list can have another list as an item, this is called as a nested list\n"
   ]
  },
  {
   "cell_type": "markdown",
   "metadata": {},
   "source": [
    "***Accessing items from the List***"
   ]
  },
  {
   "cell_type": "code",
   "execution_count": 236,
   "metadata": {},
   "outputs": [
    {
     "name": "stdout",
     "output_type": "stream",
     "text": [
      "Accessing items from List with the help of index number of the respective item\n",
      "\n",
      "Second item from list1: Rose\n"
     ]
    }
   ],
   "source": [
    "print(\"Accessing items from List with the help of index number of the respective item\")\n",
    "list1= ['Orchid','Rose','Lily','Sunflower']\n",
    "print(\"\")\n",
    "print(\"Second item from list1:\",list1[1]) "
   ]
  },
  {
   "cell_type": "markdown",
   "metadata": {},
   "source": [
    "*** Determining Length of the List using len() function***"
   ]
  },
  {
   "cell_type": "code",
   "execution_count": 237,
   "metadata": {},
   "outputs": [
    {
     "name": "stdout",
     "output_type": "stream",
     "text": [
      "Length of the List can be determined by using len() function as follows\n",
      "\n",
      "Length of list1: 4\n"
     ]
    }
   ],
   "source": [
    "print(\"Length of the List can be determined by using len() function as follows\")\n",
    "print(\"\")\n",
    "print(\"Length of list1:\",len(list1)) \n"
   ]
  },
  {
   "cell_type": "markdown",
   "metadata": {},
   "source": [
    "***Concatenation of two Lists***"
   ]
  },
  {
   "cell_type": "code",
   "execution_count": 238,
   "metadata": {},
   "outputs": [
    {
     "name": "stdout",
     "output_type": "stream",
     "text": [
      "Lists can be concatenated with the help of + operator\n",
      "\n",
      "Concatenating ListA and ListB: ['Data Science', 'BDM', 'ABI', 'DAV', 'DADM']\n"
     ]
    }
   ],
   "source": [
    "print(\"Lists can be concatenated with the help of + operator\")\n",
    "ListA=['Data Science', 'BDM','ABI']\n",
    "ListB=['DAV','DADM']\n",
    "print(\"\")\n",
    "print(\"Concatenating ListA and ListB:\",ListA + ListB)"
   ]
  },
  {
   "cell_type": "markdown",
   "metadata": {},
   "source": [
    "***Repetition of List Items***"
   ]
  },
  {
   "cell_type": "code",
   "execution_count": 204,
   "metadata": {},
   "outputs": [
    {
     "name": "stdout",
     "output_type": "stream",
     "text": [
      "List items can be repeated using * with list and the number of times of list repetition as follows:\n"
     ]
    },
    {
     "data": {
      "text/plain": [
       "['USA', 'USA', 'USA', 'USA', 'USA']"
      ]
     },
     "execution_count": 204,
     "metadata": {},
     "output_type": "execute_result"
    }
   ],
   "source": [
    "print(\"List items can be repeated using * with list and the number of times of list repetition as follows:\")\n",
    "list_repetition= ['USA']\n",
    "list_repetition * 5\n",
    "list_repetition * 5"
   ]
  },
  {
   "cell_type": "markdown",
   "metadata": {},
   "source": [
    "***Appending new Items in Existing List using append() function***"
   ]
  },
  {
   "cell_type": "code",
   "execution_count": 205,
   "metadata": {},
   "outputs": [
    {
     "name": "stdout",
     "output_type": "stream",
     "text": [
      "We can append new items in an existing list using append() function as below\n"
     ]
    },
    {
     "data": {
      "text/plain": [
       "[100, 'Hannah', 20, 'Alex', 'Justin']"
      ]
     },
     "execution_count": 205,
     "metadata": {},
     "output_type": "execute_result"
    }
   ],
   "source": [
    "print(\"We can append new items in an existing list using append() function as below\")\n",
    "list_append_example= [100,'Hannah',20,'Alex']\n",
    "list_append_example.append('Justin')\n",
    "list_append_example"
   ]
  },
  {
   "cell_type": "markdown",
   "metadata": {},
   "source": [
    "***Reversing order of Items from  using reverse() function***"
   ]
  },
  {
   "cell_type": "code",
   "execution_count": 206,
   "metadata": {
    "scrolled": true
   },
   "outputs": [
    {
     "name": "stdout",
     "output_type": "stream",
     "text": [
      "We can reverse the order of list using reverse() function\n"
     ]
    },
    {
     "data": {
      "text/plain": [
       "['Justin', 'Alex', 20, 'Hannah', 100]"
      ]
     },
     "execution_count": 206,
     "metadata": {},
     "output_type": "execute_result"
    }
   ],
   "source": [
    "print(\"We can reverse the order of list using reverse() function\")\n",
    "list_append_example.reverse()\n",
    "list_append_example"
   ]
  },
  {
   "cell_type": "markdown",
   "metadata": {},
   "source": [
    "***Iterating List Using for loop***"
   ]
  },
  {
   "cell_type": "code",
   "execution_count": 239,
   "metadata": {},
   "outputs": [
    {
     "name": "stdout",
     "output_type": "stream",
     "text": [
      "for loop is used to iterate the list elements based on the index number\n",
      "\n",
      "26\n",
      "Cross St\n",
      "1994\n",
      "Warren St\n",
      "Cleveland Avenue\n"
     ]
    }
   ],
   "source": [
    "print(\"for loop is used to iterate the list elements based on the index number\")\n",
    "print(\"\")\n",
    "list1= [26,'Cross St',1994,'Warren St','Cleveland Avenue']\n",
    "for x in list1: print(x)"
   ]
  },
  {
   "cell_type": "markdown",
   "metadata": {},
   "source": [
    "***Updating an exisiting List***"
   ]
  },
  {
   "cell_type": "code",
   "execution_count": 240,
   "metadata": {},
   "outputs": [
    {
     "name": "stdout",
     "output_type": "stream",
     "text": [
      "We can replace any item from list with some other value by assiging a new value to existing item position\n",
      "\n",
      "List before updation: ['11', '22', '33', '44']\n",
      "List after updation: ['11', '55', '33', '44']\n"
     ]
    }
   ],
   "source": [
    "list_update_example= ['11','22','33','44']\n",
    "print(\"We can replace any item from list with some other value by assiging a new value to existing item position\")\n",
    "print(\"\")\n",
    "print(\"List before updation:\",list_update_example)\n",
    "list_update_example[1]='55'\n",
    "print(\"List after updation:\",list_update_example)"
   ]
  },
  {
   "cell_type": "markdown",
   "metadata": {},
   "source": [
    "***Deletion of Items from List using del keyword***"
   ]
  },
  {
   "cell_type": "code",
   "execution_count": 241,
   "metadata": {},
   "outputs": [
    {
     "name": "stdout",
     "output_type": "stream",
     "text": [
      "We can delete an item from list by using del funtion along with the position of item to be deleted\n",
      "\n",
      "Original list: ['11', '55', '33', '44']\n",
      "Updated list after deletion of 4th item: ['11', '55', '33']\n"
     ]
    }
   ],
   "source": [
    "print(\"We can delete an item from list by using del funtion along with the position of item to be deleted\")\n",
    "print(\"\")\n",
    "print(\"Original list:\",list_update_example)\n",
    "del list_update_example[3]\n",
    "print(\"Updated list after deletion of 4th item:\", list_update_example)"
   ]
  },
  {
   "cell_type": "markdown",
   "metadata": {},
   "source": [
    "## 3.SORTING"
   ]
  },
  {
   "cell_type": "code",
   "execution_count": 229,
   "metadata": {},
   "outputs": [
    {
     "name": "stdout",
     "output_type": "stream",
     "text": [
      "Sorting of list items in Ascending or Descending order\n",
      "\n",
      "List before sorting operation: ['n', 't', 'a']\n",
      "List after sorting opration: ['a', 'n', 't']\n"
     ]
    }
   ],
   "source": [
    "print(\"Sorting of list items in Ascending or Descending order\")\n",
    "print(\"\")\n",
    "List_sort= ['n','t','a']\n",
    "print(\"List before sorting operation:\",List_sort)\n",
    "List_sort.sort()\n",
    "print(\"List after sorting opration:\",List_sort)"
   ]
  },
  {
   "cell_type": "markdown",
   "metadata": {},
   "source": [
    "## 4.DICTIONARY"
   ]
  },
  {
   "cell_type": "markdown",
   "metadata": {},
   "source": [
    "***Defining a Dictionary***"
   ]
  },
  {
   "cell_type": "code",
   "execution_count": 217,
   "metadata": {},
   "outputs": [
    {
     "name": "stdout",
     "output_type": "stream",
     "text": [
      "Dictionary can be defined using a pair of key and value attributes which can be considered as single element\n",
      "\n",
      "Example of dictionary: {'Name': 'Rutgers University', 'Course': 'MIT', 'Campus': 'Newark', 'Established': 1766}\n"
     ]
    }
   ],
   "source": [
    "print(\"Dictionary can be defined using a pair of key and value attributes which can be considered as single element\")\n",
    "print(\"\")\n",
    "Dict_example1= {'Name':'Rutgers University','Course':'MIT', 'Campus':'Newark','Established':1766}\n",
    "print(\"Example of dictionary:\",Dict_example1)"
   ]
  },
  {
   "cell_type": "markdown",
   "metadata": {},
   "source": [
    "***Accessing the values from dictionary*** "
   ]
  },
  {
   "cell_type": "code",
   "execution_count": 218,
   "metadata": {},
   "outputs": [
    {
     "name": "stdout",
     "output_type": "stream",
     "text": [
      "We can access any value from dictionary based on the subsequent key as follows:\n",
      "\n",
      "University name from dictionary: Rutgers University\n",
      "Campus from dictionary: Newark\n"
     ]
    }
   ],
   "source": [
    "print(\"We can access any value from dictionary based on the subsequent key as follows:\")\n",
    "print(\"\")\n",
    "print(\"University name from dictionary:\",Dict_example1['Name'])\n",
    "print(\"Campus from dictionary:\",Dict_example1['Campus'])"
   ]
  },
  {
   "cell_type": "markdown",
   "metadata": {},
   "source": [
    "***items() method in Dictionary***"
   ]
  },
  {
   "cell_type": "code",
   "execution_count": 216,
   "metadata": {},
   "outputs": [
    {
     "name": "stdout",
     "output_type": "stream",
     "text": [
      "All Dictionary items can be printed with the help of items() method as follows:\n",
      " \n",
      "dict_items([('Name', 'Rutgers University'), ('Course', 'MIT'), ('Campus', 'Newark'), ('Established', 1766)])\n"
     ]
    }
   ],
   "source": [
    "print(\"All Dictionary items can be printed with the help of items() method as follows:\")\n",
    "print(\" \")\n",
    "print(Dict_example1.items())\n"
   ]
  },
  {
   "cell_type": "markdown",
   "metadata": {},
   "source": [
    "***Keys() & Values() methods in Dictionary***"
   ]
  },
  {
   "cell_type": "code",
   "execution_count": 220,
   "metadata": {},
   "outputs": [
    {
     "name": "stdout",
     "output_type": "stream",
     "text": [
      "Keys and values of dictionary can individually be printed using keys() and values() methods as follows\n",
      " \n",
      "Keys from Dictionary: dict_keys(['Name', 'Course', 'Campus', 'Established'])\n",
      "Values from Dictionary: dict_values(['Rutgers University', 'MIT', 'Newark', 1766])\n"
     ]
    }
   ],
   "source": [
    "print(\"Keys and values of dictionary can individually be printed using keys() and values() methods as follows\")\n",
    "print(\" \")\n",
    "print(\"Keys from Dictionary:\",Dict_example1.keys())\n",
    "print(\"Values from Dictionary:\",Dict_example1.values())"
   ]
  },
  {
   "cell_type": "markdown",
   "metadata": {},
   "source": [
    "***copy() method in Dictionary*** "
   ]
  },
  {
   "cell_type": "code",
   "execution_count": 223,
   "metadata": {},
   "outputs": [
    {
     "name": "stdout",
     "output_type": "stream",
     "text": [
      "This method creates a exact replica of existing dictionary\n"
     ]
    },
    {
     "data": {
      "text/plain": [
       "{'Campus': 'Newark',\n",
       " 'Course': 'MIT',\n",
       " 'Established': 1766,\n",
       " 'Name': 'Rutgers University'}"
      ]
     },
     "execution_count": 223,
     "metadata": {},
     "output_type": "execute_result"
    }
   ],
   "source": [
    "print(\"This method creates a exact replica of existing dictionary\")\n",
    "Dict_example1.copy()"
   ]
  },
  {
   "cell_type": "markdown",
   "metadata": {},
   "source": [
    "***Updating an Existing Dictionary using update() method***"
   ]
  },
  {
   "cell_type": "code",
   "execution_count": 226,
   "metadata": {},
   "outputs": [
    {
     "name": "stdout",
     "output_type": "stream",
     "text": [
      "This method adds new key-value pair in the existing dictionary.\n",
      "\n",
      "Existing dictionary: {'Name': 'Rutgers University', 'Course': 'MIT', 'Campus': 'Newark', 'Established': 1766, 'type': 'Public'}\n",
      "New dictionary: {'type': 'Public'}\n",
      "\n",
      "Using update() method for merging of new dictionary with the existing ones:\n"
     ]
    },
    {
     "data": {
      "text/plain": [
       "{'Campus': 'Newark',\n",
       " 'Course': 'MIT',\n",
       " 'Established': 1766,\n",
       " 'Name': 'Rutgers University',\n",
       " 'type': 'Public'}"
      ]
     },
     "execution_count": 226,
     "metadata": {},
     "output_type": "execute_result"
    }
   ],
   "source": [
    "print(\"This method adds new key-value pair in the existing dictionary.\")\n",
    "print(\"\")\n",
    "print(\"Existing dictionary:\",Dict_example1)\n",
    "Dict_example2={'type':'Public'}\n",
    "print(\"New dictionary:\",Dict_example2)\n",
    "print(\"\")\n",
    "print(\"Using update() method for merging of new dictionary with the existing ones:\")\n",
    "Dict_example1.update(Dict_example2)\n",
    "Dict_example1"
   ]
  },
  {
   "cell_type": "markdown",
   "metadata": {},
   "source": [
    "***Deleting items from Dictionary***"
   ]
  },
  {
   "cell_type": "code",
   "execution_count": 227,
   "metadata": {},
   "outputs": [
    {
     "name": "stdout",
     "output_type": "stream",
     "text": [
      "delete() method: This method helps to delete the items from dictionary.\n",
      "\n",
      "{'Name': 'Rutgers University', 'Course': 'MIT', 'Campus': 'Newark', 'Established': 1766}\n"
     ]
    }
   ],
   "source": [
    "print(\"delete() method: This method helps to delete the items from dictionary.\")\n",
    "print(\"\")\n",
    "del Dict_example1['type'];\n",
    "print(Dict_example1)\n"
   ]
  },
  {
   "cell_type": "markdown",
   "metadata": {},
   "source": [
    "***clear() method in Dictionary***"
   ]
  },
  {
   "cell_type": "code",
   "execution_count": 179,
   "metadata": {},
   "outputs": [
    {
     "name": "stdout",
     "output_type": "stream",
     "text": [
      "clear() method: This method helps to clear entire dictionary at one go.\n",
      "{}\n"
     ]
    }
   ],
   "source": [
    "print(\"clear() method: This method helps to clear entire dictionary at one go.\")\n",
    "Dict_example1.clear()\n",
    "print(Dict_example1)"
   ]
  },
  {
   "cell_type": "markdown",
   "metadata": {},
   "source": [
    "***References :***\n",
    "\n",
    "https://www.programiz.com/python-programming/\n",
    "\n",
    "https://www.tutorialspoint.com/python/\n",
    "\n",
    "https://www.learnpython.org/en/"
   ]
  }
 ],
 "metadata": {
  "kernelspec": {
   "display_name": "Python 3",
   "language": "python",
   "name": "python3"
  },
  "language_info": {
   "codemirror_mode": {
    "name": "ipython",
    "version": 3
   },
   "file_extension": ".py",
   "mimetype": "text/x-python",
   "name": "python",
   "nbconvert_exporter": "python",
   "pygments_lexer": "ipython3",
   "version": "3.6.1"
  }
 },
 "nbformat": 4,
 "nbformat_minor": 2
}
