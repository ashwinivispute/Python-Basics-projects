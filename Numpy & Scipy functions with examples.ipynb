{
 "cells": [
  {
   "cell_type": "markdown",
   "metadata": {},
   "source": [
    "# Tutorial on Numpy & Scipy based with working examples"
   ]
  },
  {
   "cell_type": "markdown",
   "metadata": {},
   "source": [
    "***Installation of NumPy & SciPy : We can install NumPy and SciPy packages after installing Python***"
   ]
  },
  {
   "cell_type": "markdown",
   "metadata": {},
   "source": [
    "***Installation files are available for both at:***\n",
    "http://www.lfd.uci.edu/~gohlke/pythonlibs/#numpy"
   ]
  },
  {
   "cell_type": "markdown",
   "metadata": {},
   "source": [
    "## NUMPY"
   ]
  },
  {
   "cell_type": "markdown",
   "metadata": {},
   "source": [
    "**NumPy stands for Numeric python.**\n",
    "\n",
    "NumPy package provides basic routines for manipulating large arrays and matrices of numeric data. \n",
    "Numpy is the core library for scientific computing in Python. It provides a high-performance multidimensional array object, and tools for working with these arrays"
   ]
  },
  {
   "cell_type": "markdown",
   "metadata": {},
   "source": [
    "**Importing NumPy Module**"
   ]
  },
  {
   "cell_type": "markdown",
   "metadata": {},
   "source": [
    "Standard approach of using NumPy import statement:\n",
    "import numpy\n",
    "\n",
    "For large amounts of calls to NumPy functions, it can become tedious to write\n",
    "numpy.X over and over again hence in such cases NumPy import statement can be declared as: import numpy as np\n",
    "\n",
    "\n"
   ]
  },
  {
   "cell_type": "code",
   "execution_count": 2,
   "metadata": {
    "collapsed": true
   },
   "outputs": [],
   "source": [
    "import numpy as np"
   ]
  },
  {
   "cell_type": "markdown",
   "metadata": {},
   "source": [
    "***Arrays in Numpy ***"
   ]
  },
  {
   "cell_type": "markdown",
   "metadata": {},
   "source": [
    "A numpy array is a grid of values, all of the same type, and is indexed by a tuple of nonnegative integers. The number of dimensions is the rank of the array; the shape of an array is a tuple of integers giving the size of the array along each dimension."
   ]
  },
  {
   "cell_type": "markdown",
   "metadata": {},
   "source": [
    "*** Creating one dimensional array***"
   ]
  },
  {
   "cell_type": "code",
   "execution_count": 3,
   "metadata": {},
   "outputs": [
    {
     "name": "stdout",
     "output_type": "stream",
     "text": [
      "One dimensional array:  [ 1.  2.  3.]\n",
      "Type of an array:  <class 'numpy.ndarray'>\n",
      "Shape of one dimensional array:  (3,)\n",
      "Elements of array at position 0 and 2:  1.0 & 3.0\n",
      "One dimensional array after modification: [ 1.  2.  5.]\n"
     ]
    }
   ],
   "source": [
    "# create rank 1 array\n",
    "x=np.array([1,2,3],float) # declaring array of data tyoe float \n",
    "print(\"One dimensional array: \",x)\n",
    "print(\"Type of an array: \",type(x))\n",
    "print(\"Shape of one dimensional array: \",x.shape) # The shape property of an array returns a tuple with the size of each array dimension\n",
    "print(\"Elements of array at position 0 and 2: \",x[0],\"&\",x[2])\n",
    "x[2]=5\n",
    "print(\"One dimensional array after modification:\", x)"
   ]
  },
  {
   "cell_type": "markdown",
   "metadata": {},
   "source": [
    "*** Create Multidimensional array***"
   ]
  },
  {
   "cell_type": "code",
   "execution_count": 240,
   "metadata": {},
   "outputs": [
    {
     "name": "stdout",
     "output_type": "stream",
     "text": [
      "Two dimensional array: [['1' '2' '3']\n",
      " ['a' 'b' 'c']]\n",
      "Shape of two dimensional array (2, 3)\n",
      "Value of array on position [1,1]:  b\n"
     ]
    }
   ],
   "source": [
    "# create rank 2 array\n",
    "\n",
    "b=np.array([[1,2,3],['a','b','c']]) # creating a 2 dimensional array or rank 1 array\n",
    "print(\"Two dimensional array:\", b)\n",
    "print(\"Shape of two dimensional array\", b.shape) # gives shape of array in terms of number of rows followd by number of columns\n",
    "print(\"Value of array on position [1,1]: \",b[1,1]) # this prints a value on 1,1 index of array\n",
    "    "
   ]
  },
  {
   "cell_type": "markdown",
   "metadata": {},
   "source": [
    "***Create Constant array***"
   ]
  },
  {
   "cell_type": "code",
   "execution_count": 243,
   "metadata": {},
   "outputs": [
    {
     "name": "stdout",
     "output_type": "stream",
     "text": [
      "Array of size 2*2 filled with all values as 6 [[6 6]\n",
      " [6 6]]\n"
     ]
    }
   ],
   "source": [
    "# full() function can be used to create an array of size mentioned in full() function\n",
    "\n",
    "a=np.full((2,2),6) # this statement creates array of mentioned size all values filled with given value here it is '6'\n",
    "print(\"Array of size 2*2 filled with all values as 6\",a)\n"
   ]
  },
  {
   "cell_type": "markdown",
   "metadata": {},
   "source": [
    "***Creating Identity matrix***"
   ]
  },
  {
   "cell_type": "code",
   "execution_count": 245,
   "metadata": {},
   "outputs": [
    {
     "name": "stdout",
     "output_type": "stream",
     "text": [
      "Identity matrix of dimension 4*4:  [[ 1.  0.  0.  0.]\n",
      " [ 0.  1.  0.  0.]\n",
      " [ 0.  0.  1.  0.]\n",
      " [ 0.  0.  0.  1.]]\n"
     ]
    }
   ],
   "source": [
    "#numpy.eye() function can be used to create an identity matrix\n",
    "a=np.eye(4,4) # create an identity matrix of 4*4 dimension\n",
    "print(\"Identity matrix of dimension 4*4: \",a)"
   ]
  },
  {
   "cell_type": "markdown",
   "metadata": {},
   "source": [
    "***Creating random value array***"
   ]
  },
  {
   "cell_type": "code",
   "execution_count": 250,
   "metadata": {},
   "outputs": [
    {
     "name": "stdout",
     "output_type": "stream",
     "text": [
      "Array of random values:\n"
     ]
    },
    {
     "data": {
      "text/plain": [
       "array([[ 0.36575409,  0.56947423],\n",
       "       [ 0.45223019,  0.3879615 ]])"
      ]
     },
     "execution_count": 250,
     "metadata": {},
     "output_type": "execute_result"
    }
   ],
   "source": [
    "#numpy.random() function can be used to create an array of random values\n",
    "a=np.random.rand(2,2) # random function is used to create an array of random values and mentioned dimensions\n",
    "print(\"Array of random values:\" )\n",
    "a"
   ]
  },
  {
   "cell_type": "markdown",
   "metadata": {},
   "source": [
    "**Functions in Array using Numpy**"
   ]
  },
  {
   "cell_type": "markdown",
   "metadata": {},
   "source": [
    "***Len() function***"
   ]
  },
  {
   "cell_type": "code",
   "execution_count": 253,
   "metadata": {},
   "outputs": [
    {
     "name": "stdout",
     "output_type": "stream",
     "text": [
      "Length of array a:  4\n"
     ]
    }
   ],
   "source": [
    "# len() function can be used to determine length of an array\n",
    "a=np.array([1,2,3,4])\n",
    "print(\"Length of array a: \",len(a))"
   ]
  },
  {
   "cell_type": "markdown",
   "metadata": {},
   "source": [
    "***in statement in Array***"
   ]
  },
  {
   "cell_type": "code",
   "execution_count": 255,
   "metadata": {},
   "outputs": [
    {
     "name": "stdout",
     "output_type": "stream",
     "text": [
      "Whether 9 is present in an array?  True\n"
     ]
    }
   ],
   "source": [
    "# in statement can be used to test if values are present in an array:\n",
    "\n",
    "a=np.array([[1,2,3],[4,5,6],[7,8,9]])\n",
    "print(\"Whether 9 is present in an array? \",9 in a)"
   ]
  },
  {
   "cell_type": "markdown",
   "metadata": {},
   "source": [
    "***Reshaping of Array***"
   ]
  },
  {
   "cell_type": "code",
   "execution_count": 270,
   "metadata": {},
   "outputs": [
    {
     "name": "stdout",
     "output_type": "stream",
     "text": [
      "Array before reshaping:  [ 0.  1.  2.  3.  4.  5.  6.  7.  8.  9.]\n",
      "\n",
      "\n",
      "Array after reshaping:\n",
      "[[ 0.  1.]\n",
      " [ 2.  3.]\n",
      " [ 4.  5.]\n",
      " [ 6.  7.]\n",
      " [ 8.  9.]]\n",
      "\n",
      "\n",
      "Shape of an array a(number of rows follows by columns): (5, 2)\n"
     ]
    }
   ],
   "source": [
    "# Arrays can be reshaped in following way.\n",
    "\n",
    "a=np.array([0,1,2,3,4,5,6,7,8,9],float)\n",
    "print(\"Array before reshaping: \",a)\n",
    "print('\\n')\n",
    "a=a.reshape(5,2) # here we are reshaping one dimensional array of 10 elements in two dimensional array of 5 rows and 2 columns\n",
    "print(\"Array after reshaping:\")\n",
    "print(a)\n",
    "print('\\n')\n",
    "print(\"Shape of an array a(number of rows follows by columns):\",a.shape)"
   ]
  },
  {
   "cell_type": "markdown",
   "metadata": {},
   "source": [
    "***Copy() function***"
   ]
  },
  {
   "cell_type": "code",
   "execution_count": 276,
   "metadata": {},
   "outputs": [
    {
     "name": "stdout",
     "output_type": "stream",
     "text": [
      "Array a:  ['x' 'w' 'z']\n",
      "Array b:  ['x' 'w' 'z']\n",
      "Array c:  ['x' 'y' 'z']\n",
      "\n",
      "\n",
      "Array c remains unaffected even after updating array a because of copy function\n"
     ]
    }
   ],
   "source": [
    "a=np.array(['x','y','z'])\n",
    "b=a # this statement creates same array as of array 'a' and any changes made in array 'a' would be reflected in array 'b' \n",
    "c=a.copy() # using copy function copies all elements to another array but any changes made in a will not reflect in array c\n",
    "\n",
    "a[1]='w'\n",
    "print(\"Array a: \",a)\n",
    "print(\"Array b: \",b)\n",
    "print(\"Array c: \",c) # here array 'c' remains unchanged because of copy() function\n",
    "print('\\n')\n",
    "print(\"Array c remains unaffected even after updating array a because of copy function\")"
   ]
  },
  {
   "cell_type": "markdown",
   "metadata": {},
   "source": [
    "***tolist() function***"
   ]
  },
  {
   "cell_type": "code",
   "execution_count": 278,
   "metadata": {},
   "outputs": [
    {
     "name": "stdout",
     "output_type": "stream",
     "text": [
      "Array:  [ 1.  2.  3.  4.]\n",
      "List version using tolist() function:  [1.0, 2.0, 3.0, 4.0]\n"
     ]
    }
   ],
   "source": [
    "# Converting array to list form using tolist() function\n",
    "a=np.array([1,2,3,4],float)\n",
    "b=a.tolist() # using tolist() function to convert array to list format\n",
    "print(\"Array: \",a)\n",
    "print(\"List version using tolist() function: \",b)"
   ]
  },
  {
   "cell_type": "markdown",
   "metadata": {},
   "source": [
    "***fill() function***"
   ]
  },
  {
   "cell_type": "code",
   "execution_count": 281,
   "metadata": {},
   "outputs": [
    {
     "name": "stdout",
     "output_type": "stream",
     "text": [
      "Original Array: [1 2 3 4 5 6 7 8]\n",
      "Array full of values 6:  [6 6 6 6 6 6 6 6]\n"
     ]
    }
   ],
   "source": [
    "# fill() function can be used to fill complete array with single value. Here is an example of fill() function in array\n",
    "\n",
    "a=np.array([1,2,3,4,5,6,7,8])\n",
    "print(\"Original Array:\", a)\n",
    "a.fill(6) # this statement will replace all the array elements with single values mentioned in fill() function\n",
    "print(\"Array full of values 6: \",a)"
   ]
  },
  {
   "cell_type": "markdown",
   "metadata": {},
   "source": [
    "***Transpose function***"
   ]
  },
  {
   "cell_type": "code",
   "execution_count": 285,
   "metadata": {},
   "outputs": [
    {
     "name": "stdout",
     "output_type": "stream",
     "text": [
      "Original Array\n",
      "[[1 3 5 7]\n",
      " [2 4 6 8]]\n",
      "\n",
      "\n",
      "Transposed version of array:\n",
      "[[1 2]\n",
      " [3 4]\n",
      " [5 6]\n",
      " [7 8]]\n"
     ]
    }
   ],
   "source": [
    "# Transpose() function is used to see the transposed version of array\n",
    "a=np.array([[1,3,5,7],[2,4,6,8]])\n",
    "print(\"Original Array\")\n",
    "print(a)\n",
    "print('\\n')\n",
    "print(\"Transposed version of array:\")\n",
    "print(a.transpose()) # Transpose() function returns the array of transposed version"
   ]
  },
  {
   "cell_type": "markdown",
   "metadata": {},
   "source": [
    "***flatten function()***"
   ]
  },
  {
   "cell_type": "code",
   "execution_count": 289,
   "metadata": {},
   "outputs": [
    {
     "name": "stdout",
     "output_type": "stream",
     "text": [
      "Original Array: \n",
      "[[10 20 30]\n",
      " [40 50 60]\n",
      " [70 80 90]]\n",
      "\n",
      "\n",
      "Array conversion:3 dimensional to 1 dimensional \n",
      "[10 20 30 40 50 60 70 80 90]\n"
     ]
    }
   ],
   "source": [
    "# flatten() function can be used to convert  to multi-dimensional arrays \n",
    "\n",
    "a=np.array([[10,20,30],[40,50,60],[70,80,90]])\n",
    "print('Original Array: ')\n",
    "print(a)\n",
    "print('\\n')\n",
    "print('Array conversion:3 dimensional to 1 dimensional ')\n",
    "print(a.flatten()) #flatten() function to convert 3 dimensional array to 1 dimensional"
   ]
  },
  {
   "cell_type": "markdown",
   "metadata": {},
   "source": [
    "***Concatenate function***"
   ]
  },
  {
   "cell_type": "code",
   "execution_count": 295,
   "metadata": {},
   "outputs": [
    {
     "name": "stdout",
     "output_type": "stream",
     "text": [
      "Array a:  ['!' '@' '#']\n",
      "Array b:  ['$' '%' '^']\n",
      "Array c:  ['&' '*' '_']\n",
      "\n",
      "\n",
      "Array after concatenation: ['!' '@' '#' '$' '%' '^' '&' '*' '_']\n"
     ]
    }
   ],
   "source": [
    "# Concatenate function can be used to concatenate two or more array together to form a one single array\n",
    "\n",
    "a=np.array(['!','@','#'])\n",
    "b=np.array(['$','%','^'])\n",
    "c=np.array(['&','*','_'])\n",
    "\n",
    "print('Array a: ',a)\n",
    "print('Array b: ',b)\n",
    "print('Array c: ',c)\n",
    "print('\\n')\n",
    "print('Array after concatenation:',np.concatenate((a,b,c))) # using concatenate() function to concatenate 3 arrays a, b and c"
   ]
  },
  {
   "cell_type": "markdown",
   "metadata": {},
   "source": [
    "***newaxis() function***"
   ]
  },
  {
   "cell_type": "code",
   "execution_count": 300,
   "metadata": {},
   "outputs": [
    {
     "name": "stdout",
     "output_type": "stream",
     "text": [
      "Original array [ 1.  2.  3.  4.  5.]\n",
      "Array view using newaxis function:\n"
     ]
    },
    {
     "data": {
      "text/plain": [
       "array([[ 1.],\n",
       "       [ 2.],\n",
       "       [ 3.],\n",
       "       [ 4.],\n",
       "       [ 5.]])"
      ]
     },
     "execution_count": 300,
     "metadata": {},
     "output_type": "execute_result"
    }
   ],
   "source": [
    "#newaxis() function can be used to change the dimentionality of the array as follows:\n",
    "a=np.array([1,2,3,4,5],float)\n",
    "print(\"Original array\",a)\n",
    "print(\"Array view using newaxis function:\")\n",
    "(a[:,np.newaxis])"
   ]
  },
  {
   "cell_type": "markdown",
   "metadata": {},
   "source": [
    "***arange() function***"
   ]
  },
  {
   "cell_type": "code",
   "execution_count": 302,
   "metadata": {},
   "outputs": [
    {
     "name": "stdout",
     "output_type": "stream",
     "text": [
      "Array using arange() function with difference of 2:  [ 1  3  5  7  9 11 13 15 17 19]\n"
     ]
    }
   ],
   "source": [
    "# arange function is used to create a range  of numbers, it is similar to that of range() function but it forms a array of the range\n",
    "# Syntax of arange() function:\n",
    "\n",
    "# numpy.arange(start, stop, step, dtype)\n",
    "\n",
    "# start:Defines start of interval, its default value is 0\n",
    "# stop:Defines end of interval\n",
    "# step:Defines Difference between two consecutive intervals\n",
    "\n",
    "a=np.arange(20)\n",
    "print(\"Array using arange() function with difference of 2: \",np.arange(1,21,2)) # this statement creates an array of numbers from 1 to 20 with the gap of one number\n"
   ]
  },
  {
   "cell_type": "markdown",
   "metadata": {},
   "source": [
    "***itemsize() function***"
   ]
  },
  {
   "cell_type": "code",
   "execution_count": 304,
   "metadata": {},
   "outputs": [
    {
     "name": "stdout",
     "output_type": "stream",
     "text": [
      "Size of array a: 8\n"
     ]
    }
   ],
   "source": [
    "# This function returns the size of elements of an array in terms of bytes\n",
    "\n",
    "a=np.array([1,2,3,4,5,6,7],float)\n",
    "print(\"Size of array a:\",a.itemsize)"
   ]
  },
  {
   "cell_type": "markdown",
   "metadata": {},
   "source": [
    "***numpy.empty function***"
   ]
  },
  {
   "cell_type": "code",
   "execution_count": 306,
   "metadata": {},
   "outputs": [
    {
     "name": "stdout",
     "output_type": "stream",
     "text": [
      "Array of dimension 3*3\n",
      "[[10 20 30]\n",
      " [40 50 60]\n",
      " [70 80 90]]\n"
     ]
    }
   ],
   "source": [
    "# Syntax for numpy.empty() function: \n",
    "\n",
    "#numpy.empty(shape, dtype = float, order = 'C')\n",
    "\n",
    "# Shape: shape of an empty array mentioned in int or tuple of int\n",
    "# Dtype: Dtype defines the desired output data type\n",
    "# Order: Order attribute defines the order of array, here C order is C-style row-major array and F- Fortran style column major array\n",
    "\n",
    "a=np.empty((3,3),dtype=int)\n",
    "print(\"Array of dimension 3*3\")\n",
    "print(a)\n",
    "\n",
    "# All elements of an array 'a' are random as they are not initialized explicitly"
   ]
  },
  {
   "cell_type": "markdown",
   "metadata": {},
   "source": [
    "***numpy.zeros() function***"
   ]
  },
  {
   "cell_type": "code",
   "execution_count": 308,
   "metadata": {},
   "outputs": [
    {
     "name": "stdout",
     "output_type": "stream",
     "text": [
      "Array of all zero values:\n",
      "[[0 0 0]\n",
      " [0 0 0]\n",
      " [0 0 0]]\n"
     ]
    }
   ],
   "source": [
    "#syntax for numpy.zeros() function:\n",
    "\n",
    "#numpy.zeros(shape,dtype=int,order='c')\n",
    "\n",
    "# shape: shape attribute defines the dimension of array\n",
    "# dtype: Dtype attribute defines the data type of all elements in array\n",
    "# Order: Order attribute defines the order of array, here C order is C-style row-major array and F- Fortran style column major array\n",
    "\n",
    "# numpy.zeros() function can be used to create the array of mentioned dimensions with all elements '0'\n",
    "\n",
    "a=np.zeros((3,3),dtype=int) # this statement will create array of 3*3 dimensions containing all values as 0's\n",
    "print(\"Array of all zero values:\")\n",
    "print(a)"
   ]
  },
  {
   "cell_type": "markdown",
   "metadata": {},
   "source": [
    "***numpy.ones() function***"
   ]
  },
  {
   "cell_type": "code",
   "execution_count": 310,
   "metadata": {},
   "outputs": [
    {
     "name": "stdout",
     "output_type": "stream",
     "text": [
      "Array of all 1 values: \n",
      "[[ 1.  1.]\n",
      " [ 1.  1.]]\n"
     ]
    }
   ],
   "source": [
    "#syntax for numpy.ones() function:\n",
    "\n",
    "#numpy.ones(shape,dtype=float,order='c')\n",
    "\n",
    "# shape: shape attribute defines the dimension of array\n",
    "# dtype: Dtype attribute defines the data type of all elements in array\n",
    "# Order: Order attribute defines the order of array, here C order is C-style row-major array and F- Fortran style column major array\n",
    "\n",
    "a=np.ones((2,2)) # this statement will create array of 2*2 dimensions containing all values as 1's\n",
    "print(\"Array of all 1 values: \")\n",
    "print(a)"
   ]
  },
  {
   "cell_type": "markdown",
   "metadata": {},
   "source": [
    "***numpy.asarray() function***"
   ]
  },
  {
   "cell_type": "code",
   "execution_count": 311,
   "metadata": {},
   "outputs": [
    {
     "name": "stdout",
     "output_type": "stream",
     "text": [
      "Array version of mentioned tuple: \n",
      "[[1 2 3 4]\n",
      " [4 5 6 7]]\n"
     ]
    }
   ],
   "source": [
    "# This function is similar to that of numpy.array() function except single difference of less paramaeters over numpy.array() function\n",
    "# Here is an example of asarray() function\n",
    "\n",
    "a=[(1,2,3,4),(4,5,6,7)]\n",
    "b=np.asarray(a) # asarray() function generates an array from values of tuples assigned to a\n",
    "print(\"Array version of mentioned tuple: \")\n",
    "print(b)"
   ]
  },
  {
   "cell_type": "markdown",
   "metadata": {},
   "source": [
    "***numpy.logspace() function***"
   ]
  },
  {
   "cell_type": "code",
   "execution_count": 314,
   "metadata": {},
   "outputs": [
    {
     "name": "stdout",
     "output_type": "stream",
     "text": [
      "Array using logspace() function:\n",
      "\n",
      "\n",
      "[    10.             14.38449888     20.69138081     29.76351442\n",
      "     42.81332399     61.58482111     88.58667904    127.42749857\n",
      "    183.29807108    263.66508987    379.26901907    545.55947812\n",
      "    784.75997035   1128.83789168   1623.77673919   2335.72146909\n",
      "   3359.81828628   4832.93023857   6951.92796178  10000.        ]\n"
     ]
    }
   ],
   "source": [
    "# numpy.logspace() function returns an object of evenly spaced  numbers on log scale\n",
    "# Syntax of numpy.logspace()\n",
    "\n",
    "#numpy.logspace(start,stop,num,endpoint,base,dtype)\n",
    "\n",
    "# start:starting point of sequence as base\n",
    "# stop:Last value of sequence\n",
    "# num:number of values in specified range\n",
    "# base:base of logspace\n",
    "\n",
    "a=np.logspace(1.0,4.0,num=20)\n",
    "print('Array using logspace() function:')\n",
    "print('\\n')\n",
    "print(a)"
   ]
  },
  {
   "cell_type": "markdown",
   "metadata": {},
   "source": [
    "***numpy.linspace() function***"
   ]
  },
  {
   "cell_type": "code",
   "execution_count": 315,
   "metadata": {},
   "outputs": [
    {
     "name": "stdout",
     "output_type": "stream",
     "text": [
      "Array using linspace() function:\n",
      "\n",
      "\n",
      "[ 10.  19.  28.  37.  46.  55.  64.  73.  82.  91.]\n"
     ]
    }
   ],
   "source": [
    "# numpy.linspace function is used to space values between the specified interval. \n",
    "# Syntax of linspace() function:\n",
    "\n",
    "# numpy.linspace(start, stop, num, endpoint, retstep, dtype)\n",
    "\n",
    "# Start: Starting values of sequence\n",
    "# Stop: End value of Sequence\n",
    "# num: Number of evenly spaced samples\n",
    "# endpoint: If endpoint value is true then it includes end value in sequence and if false it ignores end value\n",
    "# dtype: data type of array elements\n",
    "\n",
    "a=np.linspace(10,100,num=10, endpoint=False) #here start=10, end=100 , num=10 and endpoint=false hence it ignores last values end values of sequence\n",
    "print(\"Array using linspace() function:\")\n",
    "print('\\n')\n",
    "print(a)"
   ]
  },
  {
   "cell_type": "markdown",
   "metadata": {},
   "source": [
    "**Statistical Functions**"
   ]
  },
  {
   "cell_type": "markdown",
   "metadata": {},
   "source": [
    "***1) numpy.amin() function***"
   ]
  },
  {
   "cell_type": "code",
   "execution_count": 316,
   "metadata": {},
   "outputs": [
    {
     "name": "stdout",
     "output_type": "stream",
     "text": [
      "Smallest value of array:  20\n"
     ]
    }
   ],
   "source": [
    "# This function returns the minimum value from single/multidimensional array\n",
    "a=np.array([20,30,40,50])\n",
    "print(\"Smallest value of array: \",np.amin(a))"
   ]
  },
  {
   "cell_type": "markdown",
   "metadata": {},
   "source": [
    "***2) numpy.amax() function***"
   ]
  },
  {
   "cell_type": "code",
   "execution_count": 317,
   "metadata": {},
   "outputs": [
    {
     "name": "stdout",
     "output_type": "stream",
     "text": [
      "Leargest value of array: 50\n"
     ]
    }
   ],
   "source": [
    "# This function returns the maximum value from single/multidimensional array\n",
    "a=np.array([20,30,40,50])\n",
    "print(\"Leargest value of array:\",np.amax(a))"
   ]
  },
  {
   "cell_type": "markdown",
   "metadata": {},
   "source": [
    "**INDEXING AND SLICING **"
   ]
  },
  {
   "cell_type": "code",
   "execution_count": 132,
   "metadata": {
    "collapsed": true
   },
   "outputs": [],
   "source": [
    "# Similar to python lists, numpy arrays can be sliced\n",
    "#Here slice() function consists of various parameters viz:\n",
    "#Syntax of slice() function:\n",
    "\n",
    "#numpy.arange(num)\n",
    "#slice(start,stop,step)\n",
    "\n",
    "#start--start value/first element of an array\n",
    "#stop-- end value/last element of an array\n",
    "#step-- Interval between 2 values"
   ]
  },
  {
   "cell_type": "markdown",
   "metadata": {},
   "source": [
    "***Example 1 of Slice() function***"
   ]
  },
  {
   "cell_type": "code",
   "execution_count": 319,
   "metadata": {},
   "outputs": [
    {
     "name": "stdout",
     "output_type": "stream",
     "text": [
      "[ 2  4  6  8 10 12]\n"
     ]
    }
   ],
   "source": [
    "a = np.arange(20) \n",
    "s = slice(2,14,2) \n",
    "print(a[s])"
   ]
  },
  {
   "cell_type": "markdown",
   "metadata": {},
   "source": [
    "***Example 2 of Slice() function***"
   ]
  },
  {
   "cell_type": "code",
   "execution_count": 325,
   "metadata": {},
   "outputs": [
    {
     "name": "stdout",
     "output_type": "stream",
     "text": [
      "Original array: \n",
      "[[10 20 30]\n",
      " [30 40 50]\n",
      " [40 50 60]]\n",
      "\n",
      "\n",
      "Array after slicing operation:\n",
      "[[30 40 50]]\n"
     ]
    }
   ],
   "source": [
    "x = np.array([[10,20,30],[30,40,50],[40,50,60]]) \n",
    "print (\"Original array: \")\n",
    "print(x)\n",
    "# slice items starting from index\n",
    "print('\\n')\n",
    "print(\"Array after slicing operation:\")\n",
    "print (x[1:2])"
   ]
  },
  {
   "cell_type": "code",
   "execution_count": 338,
   "metadata": {},
   "outputs": [
    {
     "name": "stdout",
     "output_type": "stream",
     "text": [
      "Original Array:\n",
      "[['a' 'b' 'c' 'd']\n",
      " ['e' 'f' 'g' 'h']\n",
      " ['i' 'j' 'k' 'l']]\n",
      "\n",
      "\n",
      "Array after slicing original array:\n",
      "[['b' 'c']\n",
      " ['f' 'g']]\n",
      "\n",
      "\n",
      "Element at position 2,3:  l\n",
      "\n",
      "\n",
      "Fetch 1st two rows of original array: [['a' 'b' 'c' 'd']\n",
      " ['e' 'f' 'g' 'h']]\n"
     ]
    }
   ],
   "source": [
    "# Array could be of multidimensions hence it is always mandatory to mention slicing for each dimension of array\n",
    "\n",
    "a = np.array([['a','b','c','d'],['e','f','g','h'],['i','j','k','l']])\n",
    "print('Original Array:')\n",
    "print(a)\n",
    "print('\\n')\n",
    "# Use slicing to take out subarray of the above array using following code statement\n",
    "b=a[:2,1:3] # this statement pulls elements from 2 rows and 1st,2nd columns\n",
    "\n",
    "print('Array after slicing original array:')\n",
    "print(b) \n",
    "print('\\n')\n",
    "\n",
    "# any changes to array b makes changes to array a\n",
    "\n",
    "print('Element at position 2,3: ',a[2,3]) # this statement prints the values of mentioned dimension, here it is 2,3 hence it will take element at index 3 of 3rd row\n",
    "print('\\n')\n",
    "\n",
    "print('Fetch 1st two rows of original array:',a[0:2]) # this statement prints 1st two rows of array"
   ]
  },
  {
   "cell_type": "markdown",
   "metadata": {},
   "source": [
    "***Accessing rows of an array***"
   ]
  },
  {
   "cell_type": "code",
   "execution_count": 343,
   "metadata": {},
   "outputs": [
    {
     "name": "stdout",
     "output_type": "stream",
     "text": [
      "1st row: ['e' 'f' 'g' 'h']\n",
      "2nd row [['e' 'f' 'g' 'h']]\n",
      "Dimension of array:  (1, 4)\n"
     ]
    }
   ],
   "source": [
    "row_r1=a[1,:] # this returns a rank 1 view of second row of array \n",
    "row_r2=a[1:2,:] #this returns a rank 2 view of second row of array\n",
    "row_r3=a[:2,:] # this returns 1st two rows of all columns of array \n",
    "print('1st row:',row_r1)\n",
    "print('2nd row',row_r2)\n",
    "\n",
    "print('Dimension of array: ',row_r2.shape) # prints the dimensions of array mentioned"
   ]
  },
  {
   "cell_type": "markdown",
   "metadata": {},
   "source": [
    "***Accessing columns of an array***"
   ]
  },
  {
   "cell_type": "code",
   "execution_count": 346,
   "metadata": {},
   "outputs": [
    {
     "name": "stdout",
     "output_type": "stream",
     "text": [
      "Third column of array:\n",
      "[['c']\n",
      " ['g']\n",
      " ['k']]\n"
     ]
    }
   ],
   "source": [
    "col_c1=a[:,2:3] # this statement returns the 2nd column of array\n",
    "print('Third column of array:')\n",
    "print(col_c1)"
   ]
  },
  {
   "cell_type": "markdown",
   "metadata": {},
   "source": [
    "***Integer Indexing***"
   ]
  },
  {
   "cell_type": "code",
   "execution_count": 352,
   "metadata": {},
   "outputs": [
    {
     "name": "stdout",
     "output_type": "stream",
     "text": [
      "Original array:\n",
      "[[1 2]\n",
      " [3 4]\n",
      " [5 6]]\n",
      "\n",
      "\n",
      "Array after integer indexing:\n",
      "[1 4 5]\n"
     ]
    }
   ],
   "source": [
    "# This type of indexing helps to select specific item from array  based on Ndimensional index\n",
    "\n",
    "x = np.array([[1, 2], [3, 4], [5, 6]]) \n",
    "print('Original array:')\n",
    "print(x.reshape(3,2))\n",
    "print('\\n')\n",
    "x = np.array([[1, 2], [3, 4], [5, 6]]) \n",
    "y = x[[0,1,2], [0,1,0]] # Integer indexing is used to select subarray from main array \n",
    "print('Array after integer indexing:')\n",
    "print (y)"
   ]
  },
  {
   "cell_type": "markdown",
   "metadata": {},
   "source": [
    "***Boolean array indexing***"
   ]
  },
  {
   "cell_type": "code",
   "execution_count": 356,
   "metadata": {},
   "outputs": [
    {
     "name": "stdout",
     "output_type": "stream",
     "text": [
      "Original array:\n",
      "[ 10  20  30  40  50  60  70  80  90 100]\n",
      "\n",
      "\n",
      "Array of elements valid for the stated condition:\n",
      "[10 20 30 40 50]\n"
     ]
    }
   ],
   "source": [
    "# This type of array returns the resulting values based on boolean operation\n",
    "# Here is an example of boolean array indexing\n",
    "\n",
    "x=np.array([10,20,30,40,50,60,70,80,90,100])\n",
    "print('Original array:')\n",
    "print(x)\n",
    "print('\\n')\n",
    "print('Array of elements valid for the stated condition:')\n",
    "print(x[x < 60]) # this statement will pring only those values which are less than 60"
   ]
  },
  {
   "cell_type": "markdown",
   "metadata": {},
   "source": [
    "***Broadcasting***"
   ]
  },
  {
   "cell_type": "code",
   "execution_count": 359,
   "metadata": {},
   "outputs": [
    {
     "name": "stdout",
     "output_type": "stream",
     "text": [
      "Multiplication of 2 same dimensional arrays:\n",
      "[100 200 300 400]\n",
      "\n",
      "\n",
      "Addition of 2 dissimilar arrays: \n",
      "[[1 3 5]\n",
      " [2 4 6]\n",
      " [3 5 7]]\n"
     ]
    }
   ],
   "source": [
    "#Broadcasting is the feature of Numpy which allows mathematical operations of different size of arrays.\n",
    "#Example of Broadcasting for similar arrays:\n",
    "\n",
    "a = np.array([10,10,10,10]) \n",
    "b = np.array([10,20,30,40]) \n",
    "c = a * b \n",
    "print('Multiplication of 2 same dimensional arrays:')\n",
    "print(c)\n",
    "print('\\n')\n",
    "\n",
    "#Example of Broadcasting for dis-similar arrays:\n",
    "\n",
    "a = np.array([[0,1,2],[1,2,3],[2,3,4]])\n",
    "b = np.array([1,2,3])\n",
    "print('Addition of 2 dissimilar arrays: ')\n",
    "print(a+b)# this statement adds all the elements of array 'b' to elements of array 'a'"
   ]
  },
  {
   "cell_type": "markdown",
   "metadata": {},
   "source": [
    "***Array Iteration***"
   ]
  },
  {
   "cell_type": "code",
   "execution_count": 366,
   "metadata": {},
   "outputs": [
    {
     "name": "stdout",
     "output_type": "stream",
     "text": [
      "Original array:\n",
      "[[ 0 10]\n",
      " [20 30]\n",
      " [40 50]\n",
      " [60 70]\n",
      " [80 90]]\n",
      "\n",
      "\n",
      "Ierated Array using nditer() function:\n",
      "0\n",
      "10\n",
      "20\n",
      "30\n",
      "40\n",
      "50\n",
      "60\n",
      "70\n",
      "80\n",
      "90\n"
     ]
    }
   ],
   "source": [
    "#numpy.nditer() function can be used to  iterate over an array\n",
    "\n",
    "#Example of array iteration:\n",
    "a = np.arange(0,100,10)\n",
    "a = a.reshape(5,2)\n",
    "print('Original array:')\n",
    "print(a)\n",
    "print('\\n')\n",
    "print('Ierated Array using nditer() function:')\n",
    "for x in np.nditer(a): #iteration operation is used to iterate over array 'a.\n",
    "    print(x)"
   ]
  },
  {
   "cell_type": "markdown",
   "metadata": {},
   "source": [
    "***String Functions***"
   ]
  },
  {
   "cell_type": "code",
   "execution_count": null,
   "metadata": {
    "collapsed": true
   },
   "outputs": [],
   "source": [
    "# Various string functions are used to perform vectorized string operation for arrays of dtype numpy.string_ or numpy.unicode_\n",
    "# Below are the few built-in functions of string in numpy"
   ]
  },
  {
   "cell_type": "markdown",
   "metadata": {},
   "source": [
    "***1) numpy.char.Add() function***"
   ]
  },
  {
   "cell_type": "code",
   "execution_count": 367,
   "metadata": {},
   "outputs": [
    {
     "name": "stdout",
     "output_type": "stream",
     "text": [
      "COncatenation of 2 strings ['Data Science']\n"
     ]
    }
   ],
   "source": [
    "#This function performs elementwise string concatenation as follows: \n",
    "\n",
    "print(\"COncatenation of 2 strings\",np.char.add(['Data'],[' Science'])) #this statement adds two strings to form  a single string 'Data Science'"
   ]
  },
  {
   "cell_type": "markdown",
   "metadata": {},
   "source": [
    "***2) numpy.char.multiply() function***"
   ]
  },
  {
   "cell_type": "code",
   "execution_count": 368,
   "metadata": {},
   "outputs": [
    {
     "name": "stdout",
     "output_type": "stream",
     "text": [
      "Repetition of 2 strings ['DataDataData']\n"
     ]
    }
   ],
   "source": [
    "#This function performs elementwise string repetition as follows: \n",
    "\n",
    "print('Repetition of 2 strings',np.char.multiply(['Data'],[3])) #this statement repeats string, number of times it mentioned to be repeated"
   ]
  },
  {
   "cell_type": "markdown",
   "metadata": {},
   "source": [
    "***3) numpy.char.capitalize() function***"
   ]
  },
  {
   "cell_type": "code",
   "execution_count": 375,
   "metadata": {},
   "outputs": [
    {
     "name": "stdout",
     "output_type": "stream",
     "text": [
      "Capitalization of 1st character of statement: Data science\n"
     ]
    }
   ],
   "source": [
    "#This function capitalizes first letter of statement\n",
    "\n",
    "print(\"Capitalization of 1st character of statement:\",np.char.capitalize(\"data science\"))"
   ]
  },
  {
   "cell_type": "markdown",
   "metadata": {},
   "source": [
    "***4) numpy.char.upper() function***"
   ]
  },
  {
   "cell_type": "code",
   "execution_count": 373,
   "metadata": {},
   "outputs": [
    {
     "name": "stdout",
     "output_type": "stream",
     "text": [
      "String converted to uppercase: DATA SCIENCE\n"
     ]
    }
   ],
   "source": [
    "#This function converts entire statement to uppercase\n",
    "\n",
    "print('String converted to uppercase:',np.char.upper(\"data science\"))"
   ]
  },
  {
   "cell_type": "markdown",
   "metadata": {},
   "source": [
    "***5) numpy.char.lower() function***"
   ]
  },
  {
   "cell_type": "code",
   "execution_count": 374,
   "metadata": {},
   "outputs": [
    {
     "name": "stdout",
     "output_type": "stream",
     "text": [
      "String converted to lowercase: data science\n"
     ]
    }
   ],
   "source": [
    "#This function converts entire statement to lowercase\n",
    "\n",
    "print('String converted to lowercase:',np.char.lower(\"DATA SCIENCE\"))"
   ]
  },
  {
   "cell_type": "markdown",
   "metadata": {},
   "source": [
    "***Arithmetic Operations***"
   ]
  },
  {
   "cell_type": "code",
   "execution_count": 377,
   "metadata": {},
   "outputs": [
    {
     "name": "stdout",
     "output_type": "stream",
     "text": [
      "Addition of 1st and 2nd array\n",
      "[[ 1.  2.  3.]\n",
      " [ 4.  5.  6.]\n",
      " [ 7.  8.  9.]]\n",
      "\n",
      "\n",
      "Subtraction of 1st and 2nd array\n",
      "[[-1.  0.  1.]\n",
      " [ 2.  3.  4.]\n",
      " [ 5.  6.  7.]]\n",
      "\n",
      "\n",
      "Multiplication of 1st and 2nd arra \n",
      "[[ 0.  1.  2.]\n",
      " [ 3.  4.  5.]\n",
      " [ 6.  7.  8.]]\n",
      "\n",
      "\n",
      "Division of 1st and 2nd array\n",
      "[[ 0.  1.  2.]\n",
      " [ 3.  4.  5.]\n",
      " [ 6.  7.  8.]]\n"
     ]
    }
   ],
   "source": [
    "a = np.arange(9, dtype = np.float_).reshape(3,3)\n",
    "b = np.array([1,1,1])\n",
    "\n",
    "print ('Addition of 1st and 2nd array')\n",
    "print (np.add(a,b))# add function adds elements of 1st array with the elements of second array\n",
    "print ('\\n')  \n",
    "\n",
    "print ('Subtraction of 1st and 2nd array') \n",
    "print (np.subtract(a,b)) # subtract function subtracts elements of 1st array with the elements of second array\n",
    "print ('\\n')  \n",
    "\n",
    "print ('Multiplication of 1st and 2nd arra ') \n",
    "print (np.multiply(a,b) )# multiply function multiplies elements of 1st array with the elements of second array\n",
    "print ('\\n')  \n",
    "\n",
    "print ('Division of 1st and 2nd array' )\n",
    "print (np.divide(a,b))# divide function divides elements of 1st array with the elements of second array"
   ]
  },
  {
   "cell_type": "markdown",
   "metadata": {},
   "source": [
    "***Linear algebra in Numpy***"
   ]
  },
  {
   "cell_type": "code",
   "execution_count": null,
   "metadata": {
    "collapsed": true
   },
   "outputs": [],
   "source": [
    "# Variety of linear algrebric functions are available in numpy such as dot,vdot,inner,solve,inv"
   ]
  },
  {
   "cell_type": "markdown",
   "metadata": {},
   "source": [
    "***1) dot function***"
   ]
  },
  {
   "cell_type": "code",
   "execution_count": 378,
   "metadata": {},
   "outputs": [
    {
     "name": "stdout",
     "output_type": "stream",
     "text": [
      "dot product of array a and b:\n",
      "[[ 7 10]\n",
      " [15 22]]\n"
     ]
    }
   ],
   "source": [
    "a = np.array([[1,2],[3,4]]) \n",
    "b = np.array([[1,2],[3,4]]) \n",
    "print('dot product of array a and b:')\n",
    "print(np.dot(a,b)) # this statement prints the dot product of two arrays"
   ]
  },
  {
   "cell_type": "markdown",
   "metadata": {},
   "source": [
    "***2) vdot function***"
   ]
  },
  {
   "cell_type": "code",
   "execution_count": 380,
   "metadata": {},
   "outputs": [
    {
     "name": "stdout",
     "output_type": "stream",
     "text": [
      "vdot product of 2 vectors:\n",
      "[[1 0]\n",
      " [1 0]]\n"
     ]
    }
   ],
   "source": [
    "a = np.array([[1,0],[1,0]]) \n",
    "b = np.array([[1,0],[1,0]]) \n",
    "print('vdot product of 2 vectors:')\n",
    "print(np.dot(a,b)) # this statement prints the vdot product of two vectors"
   ]
  },
  {
   "cell_type": "markdown",
   "metadata": {},
   "source": [
    "***Matplotlib library***"
   ]
  },
  {
   "cell_type": "code",
   "execution_count": 215,
   "metadata": {},
   "outputs": [
    {
     "data": {
      "image/png": "[encoded data removed]",
      "text/plain": [
       "<matplotlib.figure.Figure at 0x2323a23ebe0>"
      ]
     },
     "metadata": {},
     "output_type": "display_data"
    }
   ],
   "source": [
    "# matplotlib is a plotting library which can be used to plot x and y coordinates on graph based on the equation \n",
    "import numpy as np \n",
    "from matplotlib import pyplot as plt \n",
    "\n",
    "x = np.arange(1,20) \n",
    "y = 2 * x \n",
    "\n",
    "plt.xlabel(\"x axis\") #label for x axis\n",
    "plt.ylabel(\"y axis\") #label for y axis\n",
    "plt.plot(x,y) # plot x and y coordinates based on above function of y=2*x\n",
    "plt.show() #show() function is used to show graph "
   ]
  },
  {
   "cell_type": "markdown",
   "metadata": {},
   "source": [
    "## SCIPY"
   ]
  },
  {
   "cell_type": "markdown",
   "metadata": {},
   "source": [
    "**SciPy stands for Scientific Python**"
   ]
  },
  {
   "cell_type": "markdown",
   "metadata": {},
   "source": [
    "The SciPy package extends the functionality of NumPy with a substantial\n",
    "collection of useful algorithms, like minimization, Fourier transformation, regression, and other\n",
    "applied mathematical techniques."
   ]
  },
  {
   "cell_type": "markdown",
   "metadata": {},
   "source": [
    "The SciPy library has several toolboxes to solve common scientific computing problems. It contains submodules for applications like Integration, Interpolation, Image Processing, Optimization, Special Functions and Statistics, etc"
   ]
  },
  {
   "cell_type": "markdown",
   "metadata": {},
   "source": [
    "***Importing SciPy module***"
   ]
  },
  {
   "cell_type": "markdown",
   "metadata": {},
   "source": [
    "Scipy builds on Numpy, and for all basic array handling needs we can use Numpy functions\n",
    "To use functions from some of the Scipy modules, you can do:\n",
    "***from scipy import some_module***\n"
   ]
  },
  {
   "cell_type": "markdown",
   "metadata": {},
   "source": [
    "***1) Demonstrating scipy.integration() function***"
   ]
  },
  {
   "cell_type": "markdown",
   "metadata": {},
   "source": [
    "The scipy.integrate sub-package provides several integration techniques including an ordinary differential equation integrator. \n",
    "Methods for Integrating Functions could be quad, dblquad,tplquad which are general purpose integration,general purpose doube integration,general purpose triple integration respectively\n"
   ]
  },
  {
   "cell_type": "code",
   "execution_count": 14,
   "metadata": {},
   "outputs": [
    {
     "name": "stdout",
     "output_type": "stream",
     "text": [
      "Integration of x to the power 2:  21.333333333333336\n"
     ]
    }
   ],
   "source": [
    "# Example 1\n",
    "import scipy.integrate\n",
    "ans,err= scipy.integrate.quad(lambda x: x**2,0.,4) #The function quad is provided to integrate a function of one variable between two points\n",
    "print(\"Integration of x to the power 2: \",ans)"
   ]
  },
  {
   "cell_type": "code",
   "execution_count": 16,
   "metadata": {},
   "outputs": [
    {
     "name": "stdout",
     "output_type": "stream",
     "text": [
      "Integration of x to the power 3:  1024.0\n"
     ]
    }
   ],
   "source": [
    "#Example 2\n",
    "import scipy.integrate\n",
    "res, err=scipy.integrate.quad(lambda x: x**3,0.,8)#The function quad is provided to integrate a function of one variable between two points\n",
    "print('Integration of x to the power 3: ',res)"
   ]
  },
  {
   "cell_type": "markdown",
   "metadata": {},
   "source": [
    "***2) Demonstrating special functions***"
   ]
  },
  {
   "cell_type": "markdown",
   "metadata": {},
   "source": [
    "We can calculate gamma value in scipy particularly used in probability and statistical applications  "
   ]
  },
  {
   "cell_type": "code",
   "execution_count": 27,
   "metadata": {},
   "outputs": [
    {
     "data": {
      "text/plain": [
       "1.7724538509055159"
      ]
     },
     "execution_count": 27,
     "metadata": {},
     "output_type": "execute_result"
    }
   ],
   "source": [
    "from scipy.special import gamma\n",
    "gamma(0.5) #this statement calculates the gamma value for 0.5"
   ]
  },
  {
   "cell_type": "markdown",
   "metadata": {},
   "source": [
    "***3) Demonstrating Constant function***"
   ]
  },
  {
   "cell_type": "markdown",
   "metadata": {},
   "source": [
    "Constant function can be used directly for the usage of built in values such as value for speed of light, avogadro's number, plank's constant"
   ]
  },
  {
   "cell_type": "code",
   "execution_count": 34,
   "metadata": {},
   "outputs": [
    {
     "name": "stdout",
     "output_type": "stream",
     "text": [
      "Speed of light:  299792458.0\n",
      "Avogadro's number: 6.022140857e+23\n"
     ]
    }
   ],
   "source": [
    "from scipy import constants #using constant values\n",
    "print(\"Speed of light: \",constants.c) # speed of light\n",
    "print(\"Avogadro's number:\",constants.N_A) # Avogadro’s number"
   ]
  },
  {
   "cell_type": "markdown",
   "metadata": {
    "collapsed": true
   },
   "source": [
    "***4) Demonstrating linalg() linear algebraic functions***"
   ]
  },
  {
   "cell_type": "markdown",
   "metadata": {},
   "source": [
    "Linear algebric function scipy.linalg() can be used to perform various algebric operations such as inverse.\n",
    "Here we have used scipy.linalg.inv() function to inverse the array of random values"
   ]
  },
  {
   "cell_type": "code",
   "execution_count": 18,
   "metadata": {},
   "outputs": [
    {
     "name": "stdout",
     "output_type": "stream",
     "text": [
      "Inverse of array a using scipy linear algerbric function:\n"
     ]
    },
    {
     "data": {
      "text/plain": [
       "array([[ 1.64223949, -0.88410499, -0.12518125],\n",
       "       [-0.80342762,  0.3934547 ,  2.5449097 ],\n",
       "       [-0.37069085,  1.53334667, -0.56466929]])"
      ]
     },
     "execution_count": 18,
     "metadata": {},
     "output_type": "execute_result"
    }
   ],
   "source": [
    "import numpy as np\n",
    "import scipy.linalg\n",
    "a=np.random.rand(3,3) # generating an array of 3*3 dimensions of random values using random function of numpy\n",
    "print('Inverse of array a using scipy linear algerbric function:')\n",
    "scipy.linalg.inv(a) #Inverse the array 'a' using scipy.linalg.inv function of scipy"
   ]
  },
  {
   "cell_type": "markdown",
   "metadata": {},
   "source": [
    "***5) Demonstrating scipy.interpolation() function***"
   ]
  },
  {
   "cell_type": "markdown",
   "metadata": {},
   "source": [
    "Scipy.interpolate is a convenient method to create a function based on fixed data points which can be evaluated anywhere within the domain defined by the given data using linear interpolation"
   ]
  },
  {
   "cell_type": "code",
   "execution_count": 12,
   "metadata": {},
   "outputs": [
    {
     "data": {
      "image/png": "[encoded data removed]",
      "text/plain": [
       "<matplotlib.figure.Figure at 0x19fdbdb6400>"
      ]
     },
     "metadata": {},
     "output_type": "display_data"
    }
   ],
   "source": [
    "#Example of scipy.interpolation\n",
    "\n",
    "from scipy.interpolate import interp1d\n",
    "\n",
    "x = np.linspace(0, 10, num=11, endpoint=True)\n",
    "y = np.cos(-x**2/9.0) \n",
    "f = interp1d(x, y) #plotting x and y values on respective axes\n",
    "f2 = interp1d(x, y, kind='cubic')\n",
    "\n",
    "xnew = np.linspace(0, 10, num=41, endpoint=True)\n",
    "import matplotlib.pyplot as plt #using matplotlib library to plot the coordinates\n",
    "plt.plot(x, y, 'o', xnew, f(xnew), '-', xnew, f2(xnew), '--')\n",
    "plt.legend(['data', 'line', 'cube'], loc='best')\n",
    "plt.show() #this statement is used to display graph "
   ]
  },
  {
   "cell_type": "markdown",
   "metadata": {},
   "source": [
    "***6) Demonstrating fast-fourier transform function***"
   ]
  },
  {
   "cell_type": "markdown",
   "metadata": {},
   "source": [
    "Fourier analysis is a method for expressing a function as a sum of periodic components, and for recovering the signal from those components."
   ]
  },
  {
   "cell_type": "code",
   "execution_count": 23,
   "metadata": {},
   "outputs": [
    {
     "name": "stdout",
     "output_type": "stream",
     "text": [
      "Fast fourier transform of array x:\n",
      "[ 4.50000000+0.j          2.08155948-1.65109876j -1.83155948+1.60822041j\n",
      " -1.83155948-1.60822041j  2.08155948+1.65109876j]\n"
     ]
    }
   ],
   "source": [
    "from scipy.fftpack import fft, ifft\n",
    "x = np.array([1.0, 2.0, 1.0, -1.0, 1.5]) # declaring an array of 5 values\n",
    "y = fft(x) #calculating fast-fourier transform of arry x using fft function\n",
    "print(\"Fast fourier transform of array x:\")\n",
    "print(y) #fast fourier transform of array x"
   ]
  },
  {
   "cell_type": "markdown",
   "metadata": {},
   "source": [
    "***7) Demonstrating scipy.stats function to calculate probability functions***"
   ]
  },
  {
   "cell_type": "markdown",
   "metadata": {},
   "source": [
    "We can determine cumulative distribution function value using scipy.stats() and cdf() function"
   ]
  },
  {
   "cell_type": "code",
   "execution_count": null,
   "metadata": {
    "collapsed": true
   },
   "outputs": [],
   "source": [
    "from scipy.stats import norm\n",
    "norm.cdf(5, 0, 3) # Calculate cumulative distribution function for mentioned values"
   ]
  },
  {
   "cell_type": "markdown",
   "metadata": {},
   "source": [
    "***References:***\n",
    "\n",
    "https://www.tutorialspoint.com/numpy/"
   ]
  },
  {
   "cell_type": "markdown",
   "metadata": {},
   "source": [
    "https://docs.scipy.org/doc/scipy-0.18.1/reference/tutorial/\n"
   ]
  }
 ],
 "metadata": {
  "kernelspec": {
   "display_name": "Python 3",
   "language": "python",
   "name": "python3"
  },
  "language_info": {
   "codemirror_mode": {
    "name": "ipython",
    "version": 3
   },
   "file_extension": ".py",
   "mimetype": "text/x-python",
   "name": "python",
   "nbconvert_exporter": "python",
   "pygments_lexer": "ipython3",
   "version": "3.6.1"
  }
 },
 "nbformat": 4,
 "nbformat_minor": 2
}
